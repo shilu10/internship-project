{
 "cells": [
  {
   "cell_type": "code",
   "execution_count": 11,
   "id": "816b6837",
   "metadata": {},
   "outputs": [],
   "source": [
    "import logging \n",
    "\n",
    "\n",
    "class Logger :\n",
    "    def __init__(self) :\n",
    "        self.levels = {\n",
    "            20 : 'INFO', \n",
    "            30 : 'WARNING',\n",
    "            40 : 'ERROR',\n",
    "            50 : 'CRITICAL'\n",
    "        }\n",
    "        \n",
    "    def log(self, level : int, filename : str, log_message : str) -> None :\n",
    "        \"\"\"\n",
    "        Need not to provide a extension for filename.\n",
    "        \"\"\"\n",
    "        print(filename)\n",
    "        logging.basicConfig(\n",
    "            level = level,\n",
    "            format =  '%(asctime)s-15s %(user)-8s %(message)s',\n",
    "            filename = \"old.log\")\n",
    "        \n",
    "        if level == 20 : \n",
    "            logging.info(log_message)"
   ]
  },
  {
   "cell_type": "code",
   "execution_count": null,
   "id": "bea73ee5",
   "metadata": {},
   "outputs": [],
   "source": []
  },
  {
   "cell_type": "code",
   "execution_count": 12,
   "id": "62169d63",
   "metadata": {},
   "outputs": [
    {
     "name": "stdout",
     "output_type": "stream",
     "text": [
      "old\n"
     ]
    }
   ],
   "source": [
    "logger = Logger()\n",
    "logger.log(20, \"old\", \"hi\")"
   ]
  },
  {
   "cell_type": "code",
   "execution_count": 43,
   "id": "337e7996",
   "metadata": {},
   "outputs": [],
   "source": [
    "logging.basicConfig(level = logging.WARNING, filename = \"new\")"
   ]
  },
  {
   "cell_type": "code",
   "execution_count": 46,
   "id": "3f07e6b5",
   "metadata": {},
   "outputs": [
    {
     "name": "stderr",
     "output_type": "stream",
     "text": [
      "--- Logging error ---\n",
      "Traceback (most recent call last):\n",
      "  File \"/usr/lib/python3.9/logging/__init__.py\", line 1079, in emit\n",
      "    msg = self.format(record)\n",
      "  File \"/usr/lib/python3.9/logging/__init__.py\", line 923, in format\n",
      "    return fmt.format(record)\n",
      "  File \"/usr/lib/python3.9/logging/__init__.py\", line 662, in format\n",
      "    s = self.formatMessage(record)\n",
      "  File \"/usr/lib/python3.9/logging/__init__.py\", line 631, in formatMessage\n",
      "    return self._style.format(record)\n",
      "  File \"/usr/lib/python3.9/logging/__init__.py\", line 430, in format\n",
      "    return self._format(record)\n",
      "  File \"/usr/lib/python3.9/logging/__init__.py\", line 426, in _format\n",
      "    return self._fmt % record.__dict__\n",
      "ValueError: unsupported format character '%' (0x25) at index 11\n",
      "Call stack:\n",
      "  File \"/usr/lib/python3.9/runpy.py\", line 197, in _run_module_as_main\n",
      "    return _run_code(code, main_globals, None,\n",
      "  File \"/usr/lib/python3.9/runpy.py\", line 87, in _run_code\n",
      "    exec(code, run_globals)\n",
      "  File \"/usr/local/lib/python3.9/dist-packages/ipykernel_launcher.py\", line 16, in <module>\n",
      "    app.launch_new_instance()\n",
      "  File \"/usr/local/lib/python3.9/dist-packages/traitlets/config/application.py\", line 846, in launch_instance\n",
      "    app.start()\n",
      "  File \"/usr/local/lib/python3.9/dist-packages/ipykernel/kernelapp.py\", line 677, in start\n",
      "    self.io_loop.start()\n",
      "  File \"/usr/lib/python3/dist-packages/tornado/platform/asyncio.py\", line 199, in start\n",
      "    self.asyncio_loop.run_forever()\n",
      "  File \"/usr/lib/python3.9/asyncio/base_events.py\", line 596, in run_forever\n",
      "    self._run_once()\n",
      "  File \"/usr/lib/python3.9/asyncio/base_events.py\", line 1890, in _run_once\n",
      "    handle._run()\n",
      "  File \"/usr/lib/python3.9/asyncio/events.py\", line 80, in _run\n",
      "    self._context.run(self._callback, *self._args)\n",
      "  File \"/usr/local/lib/python3.9/dist-packages/ipykernel/kernelbase.py\", line 457, in dispatch_queue\n",
      "    await self.process_one()\n",
      "  File \"/usr/local/lib/python3.9/dist-packages/ipykernel/kernelbase.py\", line 446, in process_one\n",
      "    await dispatch(*args)\n",
      "  File \"/usr/local/lib/python3.9/dist-packages/ipykernel/kernelbase.py\", line 353, in dispatch_shell\n",
      "    await result\n",
      "  File \"/usr/local/lib/python3.9/dist-packages/ipykernel/kernelbase.py\", line 648, in execute_request\n",
      "    reply_content = await reply_content\n",
      "  File \"/usr/local/lib/python3.9/dist-packages/ipykernel/ipkernel.py\", line 353, in do_execute\n",
      "    res = shell.run_cell(code, store_history=store_history, silent=silent)\n",
      "  File \"/usr/local/lib/python3.9/dist-packages/ipykernel/zmqshell.py\", line 533, in run_cell\n",
      "    return super(ZMQInteractiveShell, self).run_cell(*args, **kwargs)\n",
      "  File \"/usr/local/lib/python3.9/dist-packages/IPython/core/interactiveshell.py\", line 2901, in run_cell\n",
      "    result = self._run_cell(\n",
      "  File \"/usr/local/lib/python3.9/dist-packages/IPython/core/interactiveshell.py\", line 2947, in _run_cell\n",
      "    return runner(coro)\n",
      "  File \"/usr/local/lib/python3.9/dist-packages/IPython/core/async_helpers.py\", line 68, in _pseudo_sync_runner\n",
      "    coro.send(None)\n",
      "  File \"/usr/local/lib/python3.9/dist-packages/IPython/core/interactiveshell.py\", line 3172, in run_cell_async\n",
      "    has_raised = await self.run_ast_nodes(code_ast.body, cell_name,\n",
      "  File \"/usr/local/lib/python3.9/dist-packages/IPython/core/interactiveshell.py\", line 3364, in run_ast_nodes\n",
      "    if (await self.run_code(code, result,  async_=asy)):\n",
      "  File \"/usr/local/lib/python3.9/dist-packages/IPython/core/interactiveshell.py\", line 3444, in run_code\n",
      "    exec(code_obj, self.user_global_ns, self.user_ns)\n",
      "  File \"/tmp/ipykernel_3368/1019536226.py\", line 1, in <module>\n",
      "    logging.warning(\"name:hi\")\n",
      "Message: 'name:hi'\n",
      "Arguments: ()\n"
     ]
    }
   ],
   "source": [
    "logging.warning(\"name:hi\")"
   ]
  },
  {
   "cell_type": "code",
   "execution_count": 66,
   "id": "ac9cfa4e",
   "metadata": {},
   "outputs": [],
   "source": [
    "from datetime import datetime\n",
    "import os \n",
    "\n",
    "class Logger(object) :\n",
    "    \"\"\"\n",
    "    This class will be used to log the message into the logs folder \n",
    "    \"\"\"\n",
    "    def __init__(self) :\n",
    "        pass\n",
    "    \n",
    "    def log(self,folder : str, filename : str, level : str, message : str) -> None :\n",
    "        \"\"\"\n",
    "        Folder - Need not to create a new folder if the folder is not exist.\n",
    "        filename : filename for the log.\n",
    "        level : what is the level of the log(info, warning, error, critical).\n",
    "        message : pass the log message.\n",
    "        \"\"\"\n",
    "        \n",
    "        os.chdir(\"/home/adminuser/internship_projects/phising_website/logs\")\n",
    "        if not os.path.isdir(folder) :\n",
    "            os.makedirs(folder)    \n",
    "        path = os.path.join(folder, filename)\n",
    "        current_moment = datetime.now()\n",
    "        date = current_moment.date()\n",
    "        current_time = current_moment.strftime(\"%H:%M:%S\")\n",
    "        with open(path, 'a+') as file :\n",
    "            file.write(f\"{level} : {str(date)} : {str(current_time)} : {message} \\n\" )\n",
    "            "
   ]
  },
  {
   "cell_type": "code",
   "execution_count": 61,
   "id": "46fa3ef8",
   "metadata": {},
   "outputs": [],
   "source": [
    "logger = Logger()\n",
    "logger.log(\"dummy\", \"dummy.log\", \"info\", \"dummy text for 1\")"
   ]
  },
  {
   "cell_type": "code",
   "execution_count": 60,
   "id": "ed8c7526",
   "metadata": {},
   "outputs": [
    {
     "data": {
      "text/plain": [
       "'/home/adminuser/internship_projects/phising_website/logs'"
      ]
     },
     "execution_count": 60,
     "metadata": {},
     "output_type": "execute_result"
    }
   ],
   "source": [
    "pwd"
   ]
  },
  {
   "cell_type": "code",
   "execution_count": 41,
   "id": "967ae1bf",
   "metadata": {},
   "outputs": [
    {
     "ename": "NameError",
     "evalue": "name 'window' is not defined",
     "output_type": "error",
     "traceback": [
      "\u001b[0;31m---------------------------------------------------------------------------\u001b[0m",
      "\u001b[0;31mNameError\u001b[0m                                 Traceback (most recent call last)",
      "\u001b[0;32m/tmp/ipykernel_3324/2958845038.py\u001b[0m in \u001b[0;36m<module>\u001b[0;34m\u001b[0m\n\u001b[0;32m----> 1\u001b[0;31m \u001b[0mwindow\u001b[0m\u001b[0;34m\u001b[0m\u001b[0;34m\u001b[0m\u001b[0m\n\u001b[0m",
      "\u001b[0;31mNameError\u001b[0m: name 'window' is not defined"
     ]
    }
   ],
   "source": []
  },
  {
   "cell_type": "code",
   "execution_count": 68,
   "id": "dbbd4bf3",
   "metadata": {},
   "outputs": [],
   "source": [
    "from Application_logger import logger\n",
    "\n",
    "\n",
    "class Client_Rawdata_validation :\n",
    "    def __init__(self, file : str, type_of_data : str) -> None :\n",
    "        self.type_of_data = type_of_data\n",
    "        if self.type_of_data == \"training\" :\n",
    "            self.schema_file_path = \"schema_for_training_data.json\"\n",
    "        else :\n",
    "            self.schema_file_path = \"schema_for_testing_data.json\"\n",
    "        self.logger = logger.Logger()\n",
    "        self.file = file\n",
    "        \n",
    "    def values_for_validation(self) -> tuple :\n",
    "        \n",
    "        try : \n",
    "            self.logger.log(\"Rawdata_logs\", f\"schema_data.log\", \"info\", f\"Start reading the pre-defined schema file of {type_of_data}\")\n",
    "            with open(self.schema_file_path, \"r\") as file :\n",
    "                schema_data = file.load()\n",
    "            number_of_columns = schema_data.get('Number_of_columns')\n",
    "            name = schema_data.get('Name_of_file')\n",
    "            length_of_datestamp = schema_data.get('Length_of_datestamp_in_filename')\n",
    "            length_of_timestamp = schema_data.get('Length_of_timestamp_in_filename')\n",
    "            columns_name = schema_data.get('Column_names')\n",
    "            message = f\"Number of columns={number_of_columns}, Length of datestamp={length_of_datestamp}, Length of timestamp={length_of_timestamp}, Pattern={name}\"\n",
    "            self.logger.log(\"Rawdata_logs\", \"rawdata.log\", \"info\", message)\n",
    "        \n",
    "        except ValueError as error :\n",
    "            self.logger.log(\"Rawdata_logs\", \"rawdata.log\", \"error\", \"Value for the key is not presented inside the json file.\")\n",
    "            raise error\n",
    "        \n",
    "        except KeyError as error :\n",
    "            self.logger.log(\"Rawdata_logs\", \"rawdata.log\", \"error\", \"Key is not found in the json file\")\n",
    "            raise error\n",
    "        \n",
    "        except Exception as error :\n",
    "            self.logger.log(\"Rawdata_logs\", \"rawdata.log\", \"error\", str(error))\n",
    "            raise error\n",
    "        \n",
    "        else :\n",
    "            self.logger.log(\"Rawdata_logs\", \"rawdata.log\", \"info\", \"Reading of the schema file is SuccessFull!!\")\n",
    "    \n",
    "        finally :\n",
    "            return number_of_columns, columns_name, length_of_datestamp, length_of_timestamp\n",
    "        \n",
    "    def regex_pattern_creation(self) -> str :\n",
    "        pattern = \"['phising']+['\\_'']+[\\d_]+[\\d]+\\.csv\"\n",
    "        return pattern\n",
    "    \n",
    "    def directory_creation(self) :\n",
    "        \"\"\"\n",
    "        Directory Creation for the Good data and for the bad data, after segregating them after validation.\n",
    "        Folder Names -> Good_Data/, Bad_Data/\n",
    "        \"\"\"\n",
    "        try :\n",
    "            if self.type_of_data == \"training\" :\n",
    "                parent_folder = \"Training_data_segregation\"\n",
    "            else :\n",
    "                parent_folder = \"Testing_data_segregation\"\n",
    "            \n",
    "            path = os.path.join(parent_folder, \"Good_Data\")\n",
    "            if not os.path.isdir(path) :\n",
    "                os.makedirs(path)\n",
    "                \n",
    "            path = os.path.join(parent_folder, \"Bad_Data\")\n",
    "            if not os.path.isdir(path) :\n",
    "                os.makedirs(path)\n",
    "        \n",
    "        except OSError as error :\n",
    "            self.logger.log(\"General_logs\", \"general.log\", \"error\", f\"Error while creating the file : {str(error)}\")\n",
    "            raise error\n",
    "        \n",
    "        else :\n",
    "            self.logger.log(\"General_logs\", \"general.log\", \"info\", f\"Created the file successfully!!\")\n",
    "            "
   ]
  },
  {
   "cell_type": "code",
   "execution_count": null,
   "id": "ab647aa9",
   "metadata": {},
   "outputs": [],
   "source": [
    "\n"
   ]
  },
  {
   "cell_type": "code",
   "execution_count": null,
   "id": "6857f950",
   "metadata": {},
   "outputs": [],
   "source": []
  },
  {
   "cell_type": "code",
   "execution_count": null,
   "id": "24f0f61d",
   "metadata": {},
   "outputs": [],
   "source": []
  },
  {
   "cell_type": "code",
   "execution_count": null,
   "id": "d22080f5",
   "metadata": {},
   "outputs": [],
   "source": []
  },
  {
   "cell_type": "code",
   "execution_count": null,
   "id": "20948ca1",
   "metadata": {},
   "outputs": [],
   "source": []
  },
  {
   "cell_type": "code",
   "execution_count": null,
   "id": "e3a7f256",
   "metadata": {},
   "outputs": [],
   "source": []
  }
 ],
 "metadata": {
  "kernelspec": {
   "display_name": "Python 3 (ipykernel)",
   "language": "python",
   "name": "python3"
  },
  "language_info": {
   "codemirror_mode": {
    "name": "ipython",
    "version": 3
   },
   "file_extension": ".py",
   "mimetype": "text/x-python",
   "name": "python",
   "nbconvert_exporter": "python",
   "pygments_lexer": "ipython3",
   "version": "3.9.2"
  }
 },
 "nbformat": 4,
 "nbformat_minor": 5
}
