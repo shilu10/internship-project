{
 "cells": [
  {
   "cell_type": "code",
   "execution_count": 1,
   "id": "impossible-october",
   "metadata": {},
   "outputs": [],
   "source": [
    "import pandas as pd \n",
    "import numpy as np \n",
    "import matplotlib.pyplot as plt \n",
    "import seaborn as sns\n",
    "from sklearn.ensemble import RandomForestClassifier\n",
    "from sklearn.ensemble import GradientBoostingClassifier\n",
    "from sklearn.model_selection import GridSearchCV\n",
    "from sklearn.model_selection import train_test_split\n",
    "import pickle"
   ]
  },
  {
   "cell_type": "code",
   "execution_count": 2,
   "id": "billion-lambda",
   "metadata": {},
   "outputs": [],
   "source": [
    "main_df = pd.read_csv(\"preprocessed_files_from_db/preprocessed_data.csv\")"
   ]
  },
  {
   "cell_type": "code",
   "execution_count": 3,
   "id": "dying-mumbai",
   "metadata": {},
   "outputs": [
    {
     "data": {
      "text/html": [
       "<div>\n",
       "<style scoped>\n",
       "    .dataframe tbody tr th:only-of-type {\n",
       "        vertical-align: middle;\n",
       "    }\n",
       "\n",
       "    .dataframe tbody tr th {\n",
       "        vertical-align: top;\n",
       "    }\n",
       "\n",
       "    .dataframe thead th {\n",
       "        text-align: right;\n",
       "    }\n",
       "</style>\n",
       "<table border=\"1\" class=\"dataframe\">\n",
       "  <thead>\n",
       "    <tr style=\"text-align: right;\">\n",
       "      <th></th>\n",
       "      <th>qty_slash_url</th>\n",
       "      <th>length_url</th>\n",
       "      <th>qty_dot_domain</th>\n",
       "      <th>qty_dot_directory</th>\n",
       "      <th>qty_hyphen_directory</th>\n",
       "      <th>qty_underline_directory</th>\n",
       "      <th>qty_slash_directory</th>\n",
       "      <th>qty_questionmark_directory</th>\n",
       "      <th>qty_and_directory</th>\n",
       "      <th>qty_space_directory</th>\n",
       "      <th>...</th>\n",
       "      <th>qty_plus_params</th>\n",
       "      <th>qty_asterisk_params</th>\n",
       "      <th>qty_dollar_params</th>\n",
       "      <th>qty_percent_params</th>\n",
       "      <th>qty_params</th>\n",
       "      <th>asn_ip</th>\n",
       "      <th>time_domain_activation</th>\n",
       "      <th>ttl_hostname</th>\n",
       "      <th>cluster_labels</th>\n",
       "      <th>labels</th>\n",
       "    </tr>\n",
       "  </thead>\n",
       "  <tbody>\n",
       "    <tr>\n",
       "      <th>0</th>\n",
       "      <td>1</td>\n",
       "      <td>25</td>\n",
       "      <td>2</td>\n",
       "      <td>1</td>\n",
       "      <td>0</td>\n",
       "      <td>0</td>\n",
       "      <td>1</td>\n",
       "      <td>0</td>\n",
       "      <td>0</td>\n",
       "      <td>0</td>\n",
       "      <td>...</td>\n",
       "      <td>-1</td>\n",
       "      <td>-1</td>\n",
       "      <td>-1</td>\n",
       "      <td>-1</td>\n",
       "      <td>-1</td>\n",
       "      <td>60781</td>\n",
       "      <td>-1</td>\n",
       "      <td>892</td>\n",
       "      <td>2</td>\n",
       "      <td>1</td>\n",
       "    </tr>\n",
       "    <tr>\n",
       "      <th>1</th>\n",
       "      <td>3</td>\n",
       "      <td>223</td>\n",
       "      <td>2</td>\n",
       "      <td>3</td>\n",
       "      <td>0</td>\n",
       "      <td>0</td>\n",
       "      <td>3</td>\n",
       "      <td>0</td>\n",
       "      <td>0</td>\n",
       "      <td>0</td>\n",
       "      <td>...</td>\n",
       "      <td>0</td>\n",
       "      <td>0</td>\n",
       "      <td>0</td>\n",
       "      <td>0</td>\n",
       "      <td>3</td>\n",
       "      <td>36024</td>\n",
       "      <td>579</td>\n",
       "      <td>9540</td>\n",
       "      <td>2</td>\n",
       "      <td>1</td>\n",
       "    </tr>\n",
       "    <tr>\n",
       "      <th>2</th>\n",
       "      <td>1</td>\n",
       "      <td>15</td>\n",
       "      <td>2</td>\n",
       "      <td>0</td>\n",
       "      <td>0</td>\n",
       "      <td>0</td>\n",
       "      <td>1</td>\n",
       "      <td>0</td>\n",
       "      <td>0</td>\n",
       "      <td>0</td>\n",
       "      <td>...</td>\n",
       "      <td>-1</td>\n",
       "      <td>-1</td>\n",
       "      <td>-1</td>\n",
       "      <td>-1</td>\n",
       "      <td>-1</td>\n",
       "      <td>4766</td>\n",
       "      <td>-1</td>\n",
       "      <td>589</td>\n",
       "      <td>0</td>\n",
       "      <td>0</td>\n",
       "    </tr>\n",
       "    <tr>\n",
       "      <th>3</th>\n",
       "      <td>5</td>\n",
       "      <td>81</td>\n",
       "      <td>2</td>\n",
       "      <td>2</td>\n",
       "      <td>0</td>\n",
       "      <td>2</td>\n",
       "      <td>5</td>\n",
       "      <td>0</td>\n",
       "      <td>0</td>\n",
       "      <td>0</td>\n",
       "      <td>...</td>\n",
       "      <td>-1</td>\n",
       "      <td>-1</td>\n",
       "      <td>-1</td>\n",
       "      <td>-1</td>\n",
       "      <td>-1</td>\n",
       "      <td>20454</td>\n",
       "      <td>-1</td>\n",
       "      <td>292</td>\n",
       "      <td>0</td>\n",
       "      <td>1</td>\n",
       "    </tr>\n",
       "    <tr>\n",
       "      <th>4</th>\n",
       "      <td>0</td>\n",
       "      <td>19</td>\n",
       "      <td>2</td>\n",
       "      <td>-1</td>\n",
       "      <td>-1</td>\n",
       "      <td>-1</td>\n",
       "      <td>-1</td>\n",
       "      <td>-1</td>\n",
       "      <td>-1</td>\n",
       "      <td>-1</td>\n",
       "      <td>...</td>\n",
       "      <td>-1</td>\n",
       "      <td>-1</td>\n",
       "      <td>-1</td>\n",
       "      <td>-1</td>\n",
       "      <td>-1</td>\n",
       "      <td>53831</td>\n",
       "      <td>6998</td>\n",
       "      <td>3597</td>\n",
       "      <td>2</td>\n",
       "      <td>0</td>\n",
       "    </tr>\n",
       "    <tr>\n",
       "      <th>...</th>\n",
       "      <td>...</td>\n",
       "      <td>...</td>\n",
       "      <td>...</td>\n",
       "      <td>...</td>\n",
       "      <td>...</td>\n",
       "      <td>...</td>\n",
       "      <td>...</td>\n",
       "      <td>...</td>\n",
       "      <td>...</td>\n",
       "      <td>...</td>\n",
       "      <td>...</td>\n",
       "      <td>...</td>\n",
       "      <td>...</td>\n",
       "      <td>...</td>\n",
       "      <td>...</td>\n",
       "      <td>...</td>\n",
       "      <td>...</td>\n",
       "      <td>...</td>\n",
       "      <td>...</td>\n",
       "      <td>...</td>\n",
       "      <td>...</td>\n",
       "    </tr>\n",
       "    <tr>\n",
       "      <th>88642</th>\n",
       "      <td>0</td>\n",
       "      <td>23</td>\n",
       "      <td>3</td>\n",
       "      <td>-1</td>\n",
       "      <td>-1</td>\n",
       "      <td>-1</td>\n",
       "      <td>-1</td>\n",
       "      <td>-1</td>\n",
       "      <td>-1</td>\n",
       "      <td>-1</td>\n",
       "      <td>...</td>\n",
       "      <td>-1</td>\n",
       "      <td>-1</td>\n",
       "      <td>-1</td>\n",
       "      <td>-1</td>\n",
       "      <td>-1</td>\n",
       "      <td>8560</td>\n",
       "      <td>5509</td>\n",
       "      <td>3597</td>\n",
       "      <td>0</td>\n",
       "      <td>0</td>\n",
       "    </tr>\n",
       "    <tr>\n",
       "      <th>88643</th>\n",
       "      <td>0</td>\n",
       "      <td>34</td>\n",
       "      <td>2</td>\n",
       "      <td>-1</td>\n",
       "      <td>-1</td>\n",
       "      <td>-1</td>\n",
       "      <td>-1</td>\n",
       "      <td>-1</td>\n",
       "      <td>-1</td>\n",
       "      <td>-1</td>\n",
       "      <td>...</td>\n",
       "      <td>-1</td>\n",
       "      <td>-1</td>\n",
       "      <td>-1</td>\n",
       "      <td>-1</td>\n",
       "      <td>-1</td>\n",
       "      <td>26496</td>\n",
       "      <td>5046</td>\n",
       "      <td>591</td>\n",
       "      <td>0</td>\n",
       "      <td>0</td>\n",
       "    </tr>\n",
       "    <tr>\n",
       "      <th>88644</th>\n",
       "      <td>5</td>\n",
       "      <td>70</td>\n",
       "      <td>1</td>\n",
       "      <td>1</td>\n",
       "      <td>1</td>\n",
       "      <td>0</td>\n",
       "      <td>5</td>\n",
       "      <td>0</td>\n",
       "      <td>0</td>\n",
       "      <td>0</td>\n",
       "      <td>...</td>\n",
       "      <td>-1</td>\n",
       "      <td>-1</td>\n",
       "      <td>-1</td>\n",
       "      <td>-1</td>\n",
       "      <td>-1</td>\n",
       "      <td>394695</td>\n",
       "      <td>1844</td>\n",
       "      <td>14391</td>\n",
       "      <td>1</td>\n",
       "      <td>1</td>\n",
       "    </tr>\n",
       "    <tr>\n",
       "      <th>88645</th>\n",
       "      <td>1</td>\n",
       "      <td>28</td>\n",
       "      <td>2</td>\n",
       "      <td>0</td>\n",
       "      <td>0</td>\n",
       "      <td>0</td>\n",
       "      <td>1</td>\n",
       "      <td>0</td>\n",
       "      <td>0</td>\n",
       "      <td>0</td>\n",
       "      <td>...</td>\n",
       "      <td>-1</td>\n",
       "      <td>-1</td>\n",
       "      <td>-1</td>\n",
       "      <td>-1</td>\n",
       "      <td>-1</td>\n",
       "      <td>47583</td>\n",
       "      <td>-1</td>\n",
       "      <td>52</td>\n",
       "      <td>2</td>\n",
       "      <td>1</td>\n",
       "    </tr>\n",
       "    <tr>\n",
       "      <th>88646</th>\n",
       "      <td>0</td>\n",
       "      <td>16</td>\n",
       "      <td>2</td>\n",
       "      <td>-1</td>\n",
       "      <td>-1</td>\n",
       "      <td>-1</td>\n",
       "      <td>-1</td>\n",
       "      <td>-1</td>\n",
       "      <td>-1</td>\n",
       "      <td>-1</td>\n",
       "      <td>...</td>\n",
       "      <td>-1</td>\n",
       "      <td>-1</td>\n",
       "      <td>-1</td>\n",
       "      <td>-1</td>\n",
       "      <td>-1</td>\n",
       "      <td>47846</td>\n",
       "      <td>300</td>\n",
       "      <td>299</td>\n",
       "      <td>2</td>\n",
       "      <td>0</td>\n",
       "    </tr>\n",
       "  </tbody>\n",
       "</table>\n",
       "<p>88647 rows × 52 columns</p>\n",
       "</div>"
      ],
      "text/plain": [
       "       qty_slash_url  length_url  qty_dot_domain  qty_dot_directory  \\\n",
       "0                  1          25               2                  1   \n",
       "1                  3         223               2                  3   \n",
       "2                  1          15               2                  0   \n",
       "3                  5          81               2                  2   \n",
       "4                  0          19               2                 -1   \n",
       "...              ...         ...             ...                ...   \n",
       "88642              0          23               3                 -1   \n",
       "88643              0          34               2                 -1   \n",
       "88644              5          70               1                  1   \n",
       "88645              1          28               2                  0   \n",
       "88646              0          16               2                 -1   \n",
       "\n",
       "       qty_hyphen_directory  qty_underline_directory  qty_slash_directory  \\\n",
       "0                         0                        0                    1   \n",
       "1                         0                        0                    3   \n",
       "2                         0                        0                    1   \n",
       "3                         0                        2                    5   \n",
       "4                        -1                       -1                   -1   \n",
       "...                     ...                      ...                  ...   \n",
       "88642                    -1                       -1                   -1   \n",
       "88643                    -1                       -1                   -1   \n",
       "88644                     1                        0                    5   \n",
       "88645                     0                        0                    1   \n",
       "88646                    -1                       -1                   -1   \n",
       "\n",
       "       qty_questionmark_directory  qty_and_directory  qty_space_directory  \\\n",
       "0                               0                  0                    0   \n",
       "1                               0                  0                    0   \n",
       "2                               0                  0                    0   \n",
       "3                               0                  0                    0   \n",
       "4                              -1                 -1                   -1   \n",
       "...                           ...                ...                  ...   \n",
       "88642                          -1                 -1                   -1   \n",
       "88643                          -1                 -1                   -1   \n",
       "88644                           0                  0                    0   \n",
       "88645                           0                  0                    0   \n",
       "88646                          -1                 -1                   -1   \n",
       "\n",
       "       ...  qty_plus_params  qty_asterisk_params  qty_dollar_params  \\\n",
       "0      ...               -1                   -1                 -1   \n",
       "1      ...                0                    0                  0   \n",
       "2      ...               -1                   -1                 -1   \n",
       "3      ...               -1                   -1                 -1   \n",
       "4      ...               -1                   -1                 -1   \n",
       "...    ...              ...                  ...                ...   \n",
       "88642  ...               -1                   -1                 -1   \n",
       "88643  ...               -1                   -1                 -1   \n",
       "88644  ...               -1                   -1                 -1   \n",
       "88645  ...               -1                   -1                 -1   \n",
       "88646  ...               -1                   -1                 -1   \n",
       "\n",
       "       qty_percent_params  qty_params  asn_ip  time_domain_activation  \\\n",
       "0                      -1          -1   60781                      -1   \n",
       "1                       0           3   36024                     579   \n",
       "2                      -1          -1    4766                      -1   \n",
       "3                      -1          -1   20454                      -1   \n",
       "4                      -1          -1   53831                    6998   \n",
       "...                   ...         ...     ...                     ...   \n",
       "88642                  -1          -1    8560                    5509   \n",
       "88643                  -1          -1   26496                    5046   \n",
       "88644                  -1          -1  394695                    1844   \n",
       "88645                  -1          -1   47583                      -1   \n",
       "88646                  -1          -1   47846                     300   \n",
       "\n",
       "       ttl_hostname  cluster_labels  labels  \n",
       "0               892               2       1  \n",
       "1              9540               2       1  \n",
       "2               589               0       0  \n",
       "3               292               0       1  \n",
       "4              3597               2       0  \n",
       "...             ...             ...     ...  \n",
       "88642          3597               0       0  \n",
       "88643           591               0       0  \n",
       "88644         14391               1       1  \n",
       "88645            52               2       1  \n",
       "88646           299               2       0  \n",
       "\n",
       "[88647 rows x 52 columns]"
      ]
     },
     "execution_count": 3,
     "metadata": {},
     "output_type": "execute_result"
    }
   ],
   "source": [
    "main_df"
   ]
  },
  {
   "cell_type": "code",
   "execution_count": 3,
   "id": "technological-negative",
   "metadata": {},
   "outputs": [],
   "source": [
    "clusters = main_df.cluster_labels.unique()"
   ]
  },
  {
   "cell_type": "code",
   "execution_count": 4,
   "id": "crude-filename",
   "metadata": {},
   "outputs": [
    {
     "data": {
      "text/plain": [
       "array([2, 0, 1])"
      ]
     },
     "execution_count": 4,
     "metadata": {},
     "output_type": "execute_result"
    }
   ],
   "source": [
    "clusters"
   ]
  },
  {
   "cell_type": "code",
   "execution_count": 5,
   "id": "extended-hungarian",
   "metadata": {},
   "outputs": [],
   "source": [
    "cluster_dic = {}\n",
    "for cluster in clusters: \n",
    "    cluster_dic[\"df_\"+str(cluster)] = pd.DataFrame(main_df[main_df.cluster_labels==cluster])"
   ]
  },
  {
   "cell_type": "code",
   "execution_count": 6,
   "id": "massive-swaziland",
   "metadata": {},
   "outputs": [],
   "source": [
    "cluster_dic[\"df_0\"].drop(\"cluster_labels\", inplace=True, axis=1)"
   ]
  },
  {
   "cell_type": "code",
   "execution_count": 7,
   "id": "entertaining-mapping",
   "metadata": {},
   "outputs": [],
   "source": [
    "cluster_dic[\"df_1\"].drop(\"cluster_labels\", inplace=True, axis=1)"
   ]
  },
  {
   "cell_type": "code",
   "execution_count": 8,
   "id": "oriental-technology",
   "metadata": {},
   "outputs": [],
   "source": [
    "cluster_dic[\"df_2\"].drop(\"cluster_labels\", inplace=True, axis=1)"
   ]
  },
  {
   "cell_type": "code",
   "execution_count": 9,
   "id": "closed-program",
   "metadata": {},
   "outputs": [],
   "source": [
    "with open(\"objects/selected_cols.obj\", 'rb') as f: \n",
    "    selected_cols = pickle.load(f)"
   ]
  },
  {
   "cell_type": "code",
   "execution_count": 17,
   "id": "clinical-dodge",
   "metadata": {},
   "outputs": [],
   "source": [
    "models_params_dict = {\n",
    "    \"rf_classifier\": {\n",
    "        \"object\": RandomForestClassifier(), \n",
    "        \"params\": {\n",
    "            \"criterion\": [\"gini\", \"entropy\"],\n",
    "            \"n_estimators\": [100, 150, 200],\n",
    "            \"max_depth\": [20, 40, 60], \n",
    "            \"oob_score\": [True],\n",
    "            \"random_state\": [32],\n",
    "            \n",
    "        }\n",
    "    }, \n",
    "    \"gb_classifier\": {\n",
    "        \"object\": GradientBoostingClassifier(), \n",
    "        \"params\": {\n",
    "            \"loss\": [\"exponential\"],\n",
    "            \"n_estimators\": [100, 150, 200],\n",
    "            \"criterion\": [\"friedman_mse\", \"squared_error\"], \n",
    "            \"max_depth\": [3, 6, 9], \n",
    "            \"random_state\": [32], \n",
    "            \n",
    "        }\n",
    "    }\n",
    "}"
   ]
  },
  {
   "cell_type": "code",
   "execution_count": 20,
   "id": "saving-television",
   "metadata": {},
   "outputs": [
    {
     "name": "stdout",
     "output_type": "stream",
     "text": [
      "rf_classifier\n",
      "{'df_2': {'rf_classifier': {'best_params': {'criterion': 'entropy', 'max_depth': 40, 'n_estimators': 200, 'oob_score': True, 'random_state': 32}, 'best_score': 0.9703979754033891}}}\n",
      "gb_classifier\n",
      "{'df_2': {'rf_classifier': {'best_params': {'criterion': 'entropy', 'max_depth': 40, 'n_estimators': 200, 'oob_score': True, 'random_state': 32}, 'best_score': 0.9703979754033891}, 'gb_classifier': {'best_params': {'criterion': 'squared_error', 'loss': 'exponential', 'max_depth': 9, 'n_estimators': 200, 'random_state': 32}, 'best_score': 0.9732282055473099}}}\n",
      "rf_classifier\n",
      "{'df_2': {'rf_classifier': {'best_params': {'criterion': 'entropy', 'max_depth': 40, 'n_estimators': 200, 'oob_score': True, 'random_state': 32}, 'best_score': 0.9703979754033891}, 'gb_classifier': {'best_params': {'criterion': 'squared_error', 'loss': 'exponential', 'max_depth': 9, 'n_estimators': 200, 'random_state': 32}, 'best_score': 0.9732282055473099}}, 'df_0': {'rf_classifier': {'best_params': {'criterion': 'gini', 'max_depth': 60, 'n_estimators': 200, 'oob_score': True, 'random_state': 32}, 'best_score': 0.9664167206138641}}}\n",
      "gb_classifier\n",
      "{'df_2': {'rf_classifier': {'best_params': {'criterion': 'entropy', 'max_depth': 40, 'n_estimators': 200, 'oob_score': True, 'random_state': 32}, 'best_score': 0.9703979754033891}, 'gb_classifier': {'best_params': {'criterion': 'squared_error', 'loss': 'exponential', 'max_depth': 9, 'n_estimators': 200, 'random_state': 32}, 'best_score': 0.9732282055473099}}, 'df_0': {'rf_classifier': {'best_params': {'criterion': 'gini', 'max_depth': 60, 'n_estimators': 200, 'oob_score': True, 'random_state': 32}, 'best_score': 0.9664167206138641}, 'gb_classifier': {'best_params': {'criterion': 'squared_error', 'loss': 'exponential', 'max_depth': 9, 'n_estimators': 200, 'random_state': 32}, 'best_score': 0.9694727449945951}}}\n",
      "rf_classifier\n",
      "{'df_2': {'rf_classifier': {'best_params': {'criterion': 'entropy', 'max_depth': 40, 'n_estimators': 200, 'oob_score': True, 'random_state': 32}, 'best_score': 0.9703979754033891}, 'gb_classifier': {'best_params': {'criterion': 'squared_error', 'loss': 'exponential', 'max_depth': 9, 'n_estimators': 200, 'random_state': 32}, 'best_score': 0.9732282055473099}}, 'df_0': {'rf_classifier': {'best_params': {'criterion': 'gini', 'max_depth': 60, 'n_estimators': 200, 'oob_score': True, 'random_state': 32}, 'best_score': 0.9664167206138641}, 'gb_classifier': {'best_params': {'criterion': 'squared_error', 'loss': 'exponential', 'max_depth': 9, 'n_estimators': 200, 'random_state': 32}, 'best_score': 0.9694727449945951}}, 'df_1': {'rf_classifier': {'best_params': {'criterion': 'entropy', 'max_depth': 20, 'n_estimators': 150, 'oob_score': True, 'random_state': 32}, 'best_score': 0.9637229430910921}}}\n",
      "gb_classifier\n",
      "{'df_2': {'rf_classifier': {'best_params': {'criterion': 'entropy', 'max_depth': 40, 'n_estimators': 200, 'oob_score': True, 'random_state': 32}, 'best_score': 0.9703979754033891}, 'gb_classifier': {'best_params': {'criterion': 'squared_error', 'loss': 'exponential', 'max_depth': 9, 'n_estimators': 200, 'random_state': 32}, 'best_score': 0.9732282055473099}}, 'df_0': {'rf_classifier': {'best_params': {'criterion': 'gini', 'max_depth': 60, 'n_estimators': 200, 'oob_score': True, 'random_state': 32}, 'best_score': 0.9664167206138641}, 'gb_classifier': {'best_params': {'criterion': 'squared_error', 'loss': 'exponential', 'max_depth': 9, 'n_estimators': 200, 'random_state': 32}, 'best_score': 0.9694727449945951}}, 'df_1': {'rf_classifier': {'best_params': {'criterion': 'entropy', 'max_depth': 20, 'n_estimators': 150, 'oob_score': True, 'random_state': 32}, 'best_score': 0.9637229430910921}, 'gb_classifier': {'best_params': {'criterion': 'friedman_mse', 'loss': 'exponential', 'max_depth': 6, 'n_estimators': 150, 'random_state': 32}, 'best_score': 0.9644892210237475}}}\n"
     ]
    }
   ],
   "source": [
    "result = {\n",
    "    \n",
    "}\n",
    "\n",
    "for cluster_no, cluster_df in cluster_dic.items(): \n",
    "   \n",
    "    for classifier in models_params_dict: \n",
    "        print(classifier)\n",
    "        grid_search_cv = GridSearchCV(models_params_dict[classifier].get(\"object\"), models_params_dict[classifier].get(\"params\"), n_jobs=15)\n",
    "        grid_search_cv.fit(cluster_df[(selected_cols)], cluster_df.labels)\n",
    "        if not result.get(cluster_no): \n",
    "            result[cluster_no] = {}\n",
    "        \n",
    "        if not result.get(cluster_no).get(classifier):  \n",
    "            result[cluster_no][classifier] = {}\n",
    "            \n",
    "        result[cluster_no][classifier][\"best_params\"] = grid_search_cv.best_params_\n",
    "        result[cluster_no][classifier][\"best_score\"] = grid_search_cv.best_score_\n",
    "        print(result)"
   ]
  },
  {
   "cell_type": "code",
   "execution_count": 21,
   "id": "adopted-infrared",
   "metadata": {},
   "outputs": [
    {
     "data": {
      "text/plain": [
       "{'df_2': {'rf_classifier': {'best_params': {'criterion': 'entropy',\n",
       "    'max_depth': 40,\n",
       "    'n_estimators': 200,\n",
       "    'oob_score': True,\n",
       "    'random_state': 32},\n",
       "   'best_score': 0.9703979754033891},\n",
       "  'gb_classifier': {'best_params': {'criterion': 'squared_error',\n",
       "    'loss': 'exponential',\n",
       "    'max_depth': 9,\n",
       "    'n_estimators': 200,\n",
       "    'random_state': 32},\n",
       "   'best_score': 0.9732282055473099}},\n",
       " 'df_0': {'rf_classifier': {'best_params': {'criterion': 'gini',\n",
       "    'max_depth': 60,\n",
       "    'n_estimators': 200,\n",
       "    'oob_score': True,\n",
       "    'random_state': 32},\n",
       "   'best_score': 0.9664167206138641},\n",
       "  'gb_classifier': {'best_params': {'criterion': 'squared_error',\n",
       "    'loss': 'exponential',\n",
       "    'max_depth': 9,\n",
       "    'n_estimators': 200,\n",
       "    'random_state': 32},\n",
       "   'best_score': 0.9694727449945951}},\n",
       " 'df_1': {'rf_classifier': {'best_params': {'criterion': 'entropy',\n",
       "    'max_depth': 20,\n",
       "    'n_estimators': 150,\n",
       "    'oob_score': True,\n",
       "    'random_state': 32},\n",
       "   'best_score': 0.9637229430910921},\n",
       "  'gb_classifier': {'best_params': {'criterion': 'friedman_mse',\n",
       "    'loss': 'exponential',\n",
       "    'max_depth': 6,\n",
       "    'n_estimators': 150,\n",
       "    'random_state': 32},\n",
       "   'best_score': 0.9644892210237475}}}"
      ]
     },
     "execution_count": 21,
     "metadata": {},
     "output_type": "execute_result"
    }
   ],
   "source": [
    "result"
   ]
  },
  {
   "cell_type": "code",
   "execution_count": null,
   "id": "analyzed-philippines",
   "metadata": {},
   "outputs": [],
   "source": [
    "# for dataset0 -? random forest with 32random state, max_depth:60 criterion: gini, n_estimator: 200\n",
    "# for dataset1 --> gradient boosting with max_depth 6, n_estimator: 150, random_State: 32, loss: exponential, criterion: friedman mse\n",
    "# for dataset2 --> Gradient boosting with criterion: squared_error, loss; exponential, nax_depth: 9, n_estimator: 200, "
   ]
  },
  {
   "cell_type": "code",
   "execution_count": 10,
   "id": "instrumental-clark",
   "metadata": {},
   "outputs": [],
   "source": [
    "# Testing and Training dataset for cluster0 dataset\n",
    "y1 = cluster_dic[\"df_0\"].labels\n",
    "cluster_dic[\"df_0\"].drop(\"labels\", inplace=True, axis=1)\n",
    "X1 = cluster_dic[\"df_0\"]\n",
    "X1_train, X1_test, y1_train, y1_test = train_test_split(X1,\n",
    "                                                        y1,\n",
    "                                                        test_size=0.2,\n",
    "                                                        stratify=y1\n",
    "                                                       )"
   ]
  },
  {
   "cell_type": "code",
   "execution_count": 11,
   "id": "dying-discharge",
   "metadata": {},
   "outputs": [],
   "source": [
    "# Testing and Training dataset for cluster1 dataset\n",
    "y2 = cluster_dic[\"df_1\"].labels\n",
    "cluster_dic[\"df_1\"].drop(\"labels\", inplace=True, axis=1)\n",
    "X2 = cluster_dic[\"df_1\"]\n",
    "X2_train, X2_test, y2_train, y2_test = train_test_split(X2,\n",
    "                                                        y2,\n",
    "                                                        test_size=0.2,\n",
    "                                                        stratify=y2\n",
    "                                                       )"
   ]
  },
  {
   "cell_type": "code",
   "execution_count": 12,
   "id": "creative-virginia",
   "metadata": {},
   "outputs": [],
   "source": [
    "# Testing and Training dataset for cluster2 dataset\n",
    "y3 = cluster_dic[\"df_2\"].labels\n",
    "cluster_dic[\"df_2\"].drop(\"labels\", inplace=True, axis=1)\n",
    "X3 = cluster_dic[\"df_2\"]\n",
    "X3_train, X3_test, y3_train, y3_test = train_test_split(X3,\n",
    "                                                        y3,\n",
    "                                                        test_size=0.2,\n",
    "                                                        stratify=y3\n",
    "                                                       )"
   ]
  },
  {
   "cell_type": "code",
   "execution_count": 47,
   "id": "physical-reproduction",
   "metadata": {},
   "outputs": [
    {
     "data": {
      "text/html": [
       "<style>#sk-container-id-8 {color: black;background-color: white;}#sk-container-id-8 pre{padding: 0;}#sk-container-id-8 div.sk-toggleable {background-color: white;}#sk-container-id-8 label.sk-toggleable__label {cursor: pointer;display: block;width: 100%;margin-bottom: 0;padding: 0.3em;box-sizing: border-box;text-align: center;}#sk-container-id-8 label.sk-toggleable__label-arrow:before {content: \"▸\";float: left;margin-right: 0.25em;color: #696969;}#sk-container-id-8 label.sk-toggleable__label-arrow:hover:before {color: black;}#sk-container-id-8 div.sk-estimator:hover label.sk-toggleable__label-arrow:before {color: black;}#sk-container-id-8 div.sk-toggleable__content {max-height: 0;max-width: 0;overflow: hidden;text-align: left;background-color: #f0f8ff;}#sk-container-id-8 div.sk-toggleable__content pre {margin: 0.2em;color: black;border-radius: 0.25em;background-color: #f0f8ff;}#sk-container-id-8 input.sk-toggleable__control:checked~div.sk-toggleable__content {max-height: 200px;max-width: 100%;overflow: auto;}#sk-container-id-8 input.sk-toggleable__control:checked~label.sk-toggleable__label-arrow:before {content: \"▾\";}#sk-container-id-8 div.sk-estimator input.sk-toggleable__control:checked~label.sk-toggleable__label {background-color: #d4ebff;}#sk-container-id-8 div.sk-label input.sk-toggleable__control:checked~label.sk-toggleable__label {background-color: #d4ebff;}#sk-container-id-8 input.sk-hidden--visually {border: 0;clip: rect(1px 1px 1px 1px);clip: rect(1px, 1px, 1px, 1px);height: 1px;margin: -1px;overflow: hidden;padding: 0;position: absolute;width: 1px;}#sk-container-id-8 div.sk-estimator {font-family: monospace;background-color: #f0f8ff;border: 1px dotted black;border-radius: 0.25em;box-sizing: border-box;margin-bottom: 0.5em;}#sk-container-id-8 div.sk-estimator:hover {background-color: #d4ebff;}#sk-container-id-8 div.sk-parallel-item::after {content: \"\";width: 100%;border-bottom: 1px solid gray;flex-grow: 1;}#sk-container-id-8 div.sk-label:hover label.sk-toggleable__label {background-color: #d4ebff;}#sk-container-id-8 div.sk-serial::before {content: \"\";position: absolute;border-left: 1px solid gray;box-sizing: border-box;top: 0;bottom: 0;left: 50%;z-index: 0;}#sk-container-id-8 div.sk-serial {display: flex;flex-direction: column;align-items: center;background-color: white;padding-right: 0.2em;padding-left: 0.2em;position: relative;}#sk-container-id-8 div.sk-item {position: relative;z-index: 1;}#sk-container-id-8 div.sk-parallel {display: flex;align-items: stretch;justify-content: center;background-color: white;position: relative;}#sk-container-id-8 div.sk-item::before, #sk-container-id-8 div.sk-parallel-item::before {content: \"\";position: absolute;border-left: 1px solid gray;box-sizing: border-box;top: 0;bottom: 0;left: 50%;z-index: -1;}#sk-container-id-8 div.sk-parallel-item {display: flex;flex-direction: column;z-index: 1;position: relative;background-color: white;}#sk-container-id-8 div.sk-parallel-item:first-child::after {align-self: flex-end;width: 50%;}#sk-container-id-8 div.sk-parallel-item:last-child::after {align-self: flex-start;width: 50%;}#sk-container-id-8 div.sk-parallel-item:only-child::after {width: 0;}#sk-container-id-8 div.sk-dashed-wrapped {border: 1px dashed gray;margin: 0 0.4em 0.5em 0.4em;box-sizing: border-box;padding-bottom: 0.4em;background-color: white;}#sk-container-id-8 div.sk-label label {font-family: monospace;font-weight: bold;display: inline-block;line-height: 1.2em;}#sk-container-id-8 div.sk-label-container {text-align: center;}#sk-container-id-8 div.sk-container {/* jupyter's `normalize.less` sets `[hidden] { display: none; }` but bootstrap.min.css set `[hidden] { display: none !important; }` so we also need the `!important` here to be able to override the default hidden behavior on the sphinx rendered scikit-learn.org. See: https://github.com/scikit-learn/scikit-learn/issues/21755 */display: inline-block !important;position: relative;}#sk-container-id-8 div.sk-text-repr-fallback {display: none;}</style><div id=\"sk-container-id-8\" class=\"sk-top-container\"><div class=\"sk-text-repr-fallback\"><pre>GradientBoostingClassifier(criterion=&#x27;squared_error&#x27;, loss=&#x27;exponential&#x27;,\n",
       "                           max_depth=9, n_estimators=200, random_state=32)</pre><b>In a Jupyter environment, please rerun this cell to show the HTML representation or trust the notebook. <br />On GitHub, the HTML representation is unable to render, please try loading this page with nbviewer.org.</b></div><div class=\"sk-container\" hidden><div class=\"sk-item\"><div class=\"sk-estimator sk-toggleable\"><input class=\"sk-toggleable__control sk-hidden--visually\" id=\"sk-estimator-id-8\" type=\"checkbox\" checked><label for=\"sk-estimator-id-8\" class=\"sk-toggleable__label sk-toggleable__label-arrow\">GradientBoostingClassifier</label><div class=\"sk-toggleable__content\"><pre>GradientBoostingClassifier(criterion=&#x27;squared_error&#x27;, loss=&#x27;exponential&#x27;,\n",
       "                           max_depth=9, n_estimators=200, random_state=32)</pre></div></div></div></div></div>"
      ],
      "text/plain": [
       "GradientBoostingClassifier(criterion='squared_error', loss='exponential',\n",
       "                           max_depth=9, n_estimators=200, random_state=32)"
      ]
     },
     "execution_count": 47,
     "metadata": {},
     "output_type": "execute_result"
    }
   ],
   "source": [
    "# model building for dataset0(cluster 0)\n",
    "\n",
    "gradient_boosting_df0 = GradientBoostingClassifier(max_depth=9, criterion=\"squared_error\", n_estimators=200, random_state=32, loss=\"exponential\")\n",
    "gradient_boosting_df0.fit(X1_train, y1_train)"
   ]
  },
  {
   "cell_type": "code",
   "execution_count": 48,
   "id": "positive-remains",
   "metadata": {},
   "outputs": [
    {
     "data": {
      "text/html": [
       "<style>#sk-container-id-9 {color: black;background-color: white;}#sk-container-id-9 pre{padding: 0;}#sk-container-id-9 div.sk-toggleable {background-color: white;}#sk-container-id-9 label.sk-toggleable__label {cursor: pointer;display: block;width: 100%;margin-bottom: 0;padding: 0.3em;box-sizing: border-box;text-align: center;}#sk-container-id-9 label.sk-toggleable__label-arrow:before {content: \"▸\";float: left;margin-right: 0.25em;color: #696969;}#sk-container-id-9 label.sk-toggleable__label-arrow:hover:before {color: black;}#sk-container-id-9 div.sk-estimator:hover label.sk-toggleable__label-arrow:before {color: black;}#sk-container-id-9 div.sk-toggleable__content {max-height: 0;max-width: 0;overflow: hidden;text-align: left;background-color: #f0f8ff;}#sk-container-id-9 div.sk-toggleable__content pre {margin: 0.2em;color: black;border-radius: 0.25em;background-color: #f0f8ff;}#sk-container-id-9 input.sk-toggleable__control:checked~div.sk-toggleable__content {max-height: 200px;max-width: 100%;overflow: auto;}#sk-container-id-9 input.sk-toggleable__control:checked~label.sk-toggleable__label-arrow:before {content: \"▾\";}#sk-container-id-9 div.sk-estimator input.sk-toggleable__control:checked~label.sk-toggleable__label {background-color: #d4ebff;}#sk-container-id-9 div.sk-label input.sk-toggleable__control:checked~label.sk-toggleable__label {background-color: #d4ebff;}#sk-container-id-9 input.sk-hidden--visually {border: 0;clip: rect(1px 1px 1px 1px);clip: rect(1px, 1px, 1px, 1px);height: 1px;margin: -1px;overflow: hidden;padding: 0;position: absolute;width: 1px;}#sk-container-id-9 div.sk-estimator {font-family: monospace;background-color: #f0f8ff;border: 1px dotted black;border-radius: 0.25em;box-sizing: border-box;margin-bottom: 0.5em;}#sk-container-id-9 div.sk-estimator:hover {background-color: #d4ebff;}#sk-container-id-9 div.sk-parallel-item::after {content: \"\";width: 100%;border-bottom: 1px solid gray;flex-grow: 1;}#sk-container-id-9 div.sk-label:hover label.sk-toggleable__label {background-color: #d4ebff;}#sk-container-id-9 div.sk-serial::before {content: \"\";position: absolute;border-left: 1px solid gray;box-sizing: border-box;top: 0;bottom: 0;left: 50%;z-index: 0;}#sk-container-id-9 div.sk-serial {display: flex;flex-direction: column;align-items: center;background-color: white;padding-right: 0.2em;padding-left: 0.2em;position: relative;}#sk-container-id-9 div.sk-item {position: relative;z-index: 1;}#sk-container-id-9 div.sk-parallel {display: flex;align-items: stretch;justify-content: center;background-color: white;position: relative;}#sk-container-id-9 div.sk-item::before, #sk-container-id-9 div.sk-parallel-item::before {content: \"\";position: absolute;border-left: 1px solid gray;box-sizing: border-box;top: 0;bottom: 0;left: 50%;z-index: -1;}#sk-container-id-9 div.sk-parallel-item {display: flex;flex-direction: column;z-index: 1;position: relative;background-color: white;}#sk-container-id-9 div.sk-parallel-item:first-child::after {align-self: flex-end;width: 50%;}#sk-container-id-9 div.sk-parallel-item:last-child::after {align-self: flex-start;width: 50%;}#sk-container-id-9 div.sk-parallel-item:only-child::after {width: 0;}#sk-container-id-9 div.sk-dashed-wrapped {border: 1px dashed gray;margin: 0 0.4em 0.5em 0.4em;box-sizing: border-box;padding-bottom: 0.4em;background-color: white;}#sk-container-id-9 div.sk-label label {font-family: monospace;font-weight: bold;display: inline-block;line-height: 1.2em;}#sk-container-id-9 div.sk-label-container {text-align: center;}#sk-container-id-9 div.sk-container {/* jupyter's `normalize.less` sets `[hidden] { display: none; }` but bootstrap.min.css set `[hidden] { display: none !important; }` so we also need the `!important` here to be able to override the default hidden behavior on the sphinx rendered scikit-learn.org. See: https://github.com/scikit-learn/scikit-learn/issues/21755 */display: inline-block !important;position: relative;}#sk-container-id-9 div.sk-text-repr-fallback {display: none;}</style><div id=\"sk-container-id-9\" class=\"sk-top-container\"><div class=\"sk-text-repr-fallback\"><pre>GradientBoostingClassifier(loss=&#x27;exponential&#x27;, max_depth=6, n_estimators=150,\n",
       "                           random_state=32)</pre><b>In a Jupyter environment, please rerun this cell to show the HTML representation or trust the notebook. <br />On GitHub, the HTML representation is unable to render, please try loading this page with nbviewer.org.</b></div><div class=\"sk-container\" hidden><div class=\"sk-item\"><div class=\"sk-estimator sk-toggleable\"><input class=\"sk-toggleable__control sk-hidden--visually\" id=\"sk-estimator-id-9\" type=\"checkbox\" checked><label for=\"sk-estimator-id-9\" class=\"sk-toggleable__label sk-toggleable__label-arrow\">GradientBoostingClassifier</label><div class=\"sk-toggleable__content\"><pre>GradientBoostingClassifier(loss=&#x27;exponential&#x27;, max_depth=6, n_estimators=150,\n",
       "                           random_state=32)</pre></div></div></div></div></div>"
      ],
      "text/plain": [
       "GradientBoostingClassifier(loss='exponential', max_depth=6, n_estimators=150,\n",
       "                           random_state=32)"
      ]
     },
     "execution_count": 48,
     "metadata": {},
     "output_type": "execute_result"
    }
   ],
   "source": [
    "# model building for dataset1(cluster 1)\n",
    "\n",
    "gradient_boosting_df2 = GradientBoostingClassifier(max_depth=6, criterion=\"friedman_mse\", n_estimators=150, random_state=32, loss=\"exponential\")\n",
    "gradient_boosting_df2.fit(X2_train, y2_train)"
   ]
  },
  {
   "cell_type": "code",
   "execution_count": 49,
   "id": "extra-poison",
   "metadata": {},
   "outputs": [
    {
     "data": {
      "text/html": [
       "<style>#sk-container-id-10 {color: black;background-color: white;}#sk-container-id-10 pre{padding: 0;}#sk-container-id-10 div.sk-toggleable {background-color: white;}#sk-container-id-10 label.sk-toggleable__label {cursor: pointer;display: block;width: 100%;margin-bottom: 0;padding: 0.3em;box-sizing: border-box;text-align: center;}#sk-container-id-10 label.sk-toggleable__label-arrow:before {content: \"▸\";float: left;margin-right: 0.25em;color: #696969;}#sk-container-id-10 label.sk-toggleable__label-arrow:hover:before {color: black;}#sk-container-id-10 div.sk-estimator:hover label.sk-toggleable__label-arrow:before {color: black;}#sk-container-id-10 div.sk-toggleable__content {max-height: 0;max-width: 0;overflow: hidden;text-align: left;background-color: #f0f8ff;}#sk-container-id-10 div.sk-toggleable__content pre {margin: 0.2em;color: black;border-radius: 0.25em;background-color: #f0f8ff;}#sk-container-id-10 input.sk-toggleable__control:checked~div.sk-toggleable__content {max-height: 200px;max-width: 100%;overflow: auto;}#sk-container-id-10 input.sk-toggleable__control:checked~label.sk-toggleable__label-arrow:before {content: \"▾\";}#sk-container-id-10 div.sk-estimator input.sk-toggleable__control:checked~label.sk-toggleable__label {background-color: #d4ebff;}#sk-container-id-10 div.sk-label input.sk-toggleable__control:checked~label.sk-toggleable__label {background-color: #d4ebff;}#sk-container-id-10 input.sk-hidden--visually {border: 0;clip: rect(1px 1px 1px 1px);clip: rect(1px, 1px, 1px, 1px);height: 1px;margin: -1px;overflow: hidden;padding: 0;position: absolute;width: 1px;}#sk-container-id-10 div.sk-estimator {font-family: monospace;background-color: #f0f8ff;border: 1px dotted black;border-radius: 0.25em;box-sizing: border-box;margin-bottom: 0.5em;}#sk-container-id-10 div.sk-estimator:hover {background-color: #d4ebff;}#sk-container-id-10 div.sk-parallel-item::after {content: \"\";width: 100%;border-bottom: 1px solid gray;flex-grow: 1;}#sk-container-id-10 div.sk-label:hover label.sk-toggleable__label {background-color: #d4ebff;}#sk-container-id-10 div.sk-serial::before {content: \"\";position: absolute;border-left: 1px solid gray;box-sizing: border-box;top: 0;bottom: 0;left: 50%;z-index: 0;}#sk-container-id-10 div.sk-serial {display: flex;flex-direction: column;align-items: center;background-color: white;padding-right: 0.2em;padding-left: 0.2em;position: relative;}#sk-container-id-10 div.sk-item {position: relative;z-index: 1;}#sk-container-id-10 div.sk-parallel {display: flex;align-items: stretch;justify-content: center;background-color: white;position: relative;}#sk-container-id-10 div.sk-item::before, #sk-container-id-10 div.sk-parallel-item::before {content: \"\";position: absolute;border-left: 1px solid gray;box-sizing: border-box;top: 0;bottom: 0;left: 50%;z-index: -1;}#sk-container-id-10 div.sk-parallel-item {display: flex;flex-direction: column;z-index: 1;position: relative;background-color: white;}#sk-container-id-10 div.sk-parallel-item:first-child::after {align-self: flex-end;width: 50%;}#sk-container-id-10 div.sk-parallel-item:last-child::after {align-self: flex-start;width: 50%;}#sk-container-id-10 div.sk-parallel-item:only-child::after {width: 0;}#sk-container-id-10 div.sk-dashed-wrapped {border: 1px dashed gray;margin: 0 0.4em 0.5em 0.4em;box-sizing: border-box;padding-bottom: 0.4em;background-color: white;}#sk-container-id-10 div.sk-label label {font-family: monospace;font-weight: bold;display: inline-block;line-height: 1.2em;}#sk-container-id-10 div.sk-label-container {text-align: center;}#sk-container-id-10 div.sk-container {/* jupyter's `normalize.less` sets `[hidden] { display: none; }` but bootstrap.min.css set `[hidden] { display: none !important; }` so we also need the `!important` here to be able to override the default hidden behavior on the sphinx rendered scikit-learn.org. See: https://github.com/scikit-learn/scikit-learn/issues/21755 */display: inline-block !important;position: relative;}#sk-container-id-10 div.sk-text-repr-fallback {display: none;}</style><div id=\"sk-container-id-10\" class=\"sk-top-container\"><div class=\"sk-text-repr-fallback\"><pre>RandomForestClassifier(criterion=&#x27;entropy&#x27;, max_depth=40, n_estimators=200,\n",
       "                       random_state=32)</pre><b>In a Jupyter environment, please rerun this cell to show the HTML representation or trust the notebook. <br />On GitHub, the HTML representation is unable to render, please try loading this page with nbviewer.org.</b></div><div class=\"sk-container\" hidden><div class=\"sk-item\"><div class=\"sk-estimator sk-toggleable\"><input class=\"sk-toggleable__control sk-hidden--visually\" id=\"sk-estimator-id-10\" type=\"checkbox\" checked><label for=\"sk-estimator-id-10\" class=\"sk-toggleable__label sk-toggleable__label-arrow\">RandomForestClassifier</label><div class=\"sk-toggleable__content\"><pre>RandomForestClassifier(criterion=&#x27;entropy&#x27;, max_depth=40, n_estimators=200,\n",
       "                       random_state=32)</pre></div></div></div></div></div>"
      ],
      "text/plain": [
       "RandomForestClassifier(criterion='entropy', max_depth=40, n_estimators=200,\n",
       "                       random_state=32)"
      ]
     },
     "execution_count": 49,
     "metadata": {},
     "output_type": "execute_result"
    }
   ],
   "source": [
    "# model building for dataset2(cluster 2)\n",
    "\n",
    "random_forest = RandomForestClassifier(max_depth=40, criterion=\"entropy\", n_estimators=200, random_state=32)\n",
    "random_forest.fit(X3_train, y3_train)"
   ]
  },
  {
   "cell_type": "code",
   "execution_count": 50,
   "id": "decimal-theater",
   "metadata": {},
   "outputs": [],
   "source": [
    "from sklearn.metrics import confusion_matrix, classification_report, accuracy_score, balanced_accuracy_score, cohen_kappa_score"
   ]
  },
  {
   "cell_type": "markdown",
   "id": "younger-minute",
   "metadata": {},
   "source": [
    "## Cluster0 evaluation metrics.."
   ]
  },
  {
   "cell_type": "code",
   "execution_count": 52,
   "id": "indie-rapid",
   "metadata": {},
   "outputs": [],
   "source": [
    "y1_pred = gradient_boosting_df0.predict(X1_test)"
   ]
  },
  {
   "cell_type": "code",
   "execution_count": 54,
   "id": "scenic-voltage",
   "metadata": {},
   "outputs": [
    {
     "data": {
      "text/plain": [
       "array([[7922,  200],\n",
       "       [ 203, 3652]])"
      ]
     },
     "execution_count": 54,
     "metadata": {},
     "output_type": "execute_result"
    }
   ],
   "source": [
    "confusion_matrix(y1_test, y1_pred)"
   ]
  },
  {
   "cell_type": "code",
   "execution_count": 55,
   "id": "german-wound",
   "metadata": {},
   "outputs": [
    {
     "data": {
      "text/plain": [
       "0.9663521750020874"
      ]
     },
     "execution_count": 55,
     "metadata": {},
     "output_type": "execute_result"
    }
   ],
   "source": [
    "accuracy_score(y1_test, y1_pred)"
   ]
  },
  {
   "cell_type": "code",
   "execution_count": 56,
   "id": "average-exchange",
   "metadata": {},
   "outputs": [
    {
     "data": {
      "text/plain": [
       "0.9613583193523156"
      ]
     },
     "execution_count": 56,
     "metadata": {},
     "output_type": "execute_result"
    }
   ],
   "source": [
    "balanced_accuracy_score(y1_test, y1_pred)"
   ]
  },
  {
   "cell_type": "code",
   "execution_count": 58,
   "id": "russian-ebony",
   "metadata": {},
   "outputs": [
    {
     "name": "stdout",
     "output_type": "stream",
     "text": [
      "              precision    recall  f1-score   support\n",
      "\n",
      "           0       0.98      0.98      0.98      8122\n",
      "           1       0.95      0.95      0.95      3855\n",
      "\n",
      "    accuracy                           0.97     11977\n",
      "   macro avg       0.96      0.96      0.96     11977\n",
      "weighted avg       0.97      0.97      0.97     11977\n",
      "\n"
     ]
    }
   ],
   "source": [
    "print(classification_report(y1_test, y1_pred))"
   ]
  },
  {
   "cell_type": "markdown",
   "id": "green-journalism",
   "metadata": {},
   "source": [
    "## Cluster1 evaluation metrics.."
   ]
  },
  {
   "cell_type": "code",
   "execution_count": 59,
   "id": "adverse-savage",
   "metadata": {},
   "outputs": [],
   "source": [
    "y2_pred = gradient_boosting_df2.predict(X2_test)"
   ]
  },
  {
   "cell_type": "code",
   "execution_count": 60,
   "id": "imperial-screw",
   "metadata": {},
   "outputs": [
    {
     "data": {
      "text/plain": [
       "array([[226,  19],\n",
       "       [  5, 274]])"
      ]
     },
     "execution_count": 60,
     "metadata": {},
     "output_type": "execute_result"
    }
   ],
   "source": [
    "confusion_matrix(y2_test, y2_pred)"
   ]
  },
  {
   "cell_type": "code",
   "execution_count": 61,
   "id": "subsequent-moderator",
   "metadata": {},
   "outputs": [
    {
     "data": {
      "text/plain": [
       "0.9541984732824428"
      ]
     },
     "execution_count": 61,
     "metadata": {},
     "output_type": "execute_result"
    }
   ],
   "source": [
    "accuracy_score(y2_test, y2_pred)"
   ]
  },
  {
   "cell_type": "code",
   "execution_count": 62,
   "id": "front-genre",
   "metadata": {},
   "outputs": [
    {
     "data": {
      "text/plain": [
       "0.9522639163192159"
      ]
     },
     "execution_count": 62,
     "metadata": {},
     "output_type": "execute_result"
    }
   ],
   "source": [
    "balanced_accuracy_score(y2_test, y2_pred)"
   ]
  },
  {
   "cell_type": "code",
   "execution_count": 63,
   "id": "seeing-castle",
   "metadata": {},
   "outputs": [
    {
     "name": "stdout",
     "output_type": "stream",
     "text": [
      "              precision    recall  f1-score   support\n",
      "\n",
      "           0       0.98      0.92      0.95       245\n",
      "           1       0.94      0.98      0.96       279\n",
      "\n",
      "    accuracy                           0.95       524\n",
      "   macro avg       0.96      0.95      0.95       524\n",
      "weighted avg       0.96      0.95      0.95       524\n",
      "\n"
     ]
    }
   ],
   "source": [
    "print(classification_report(y2_test, y2_pred))"
   ]
  },
  {
   "cell_type": "markdown",
   "id": "advanced-negative",
   "metadata": {},
   "source": [
    "## Cluster2 evaluation metrics.."
   ]
  },
  {
   "cell_type": "code",
   "execution_count": 64,
   "id": "corporate-scottish",
   "metadata": {},
   "outputs": [],
   "source": [
    "y3_pred = random_forest.predict(X3_test)"
   ]
  },
  {
   "cell_type": "code",
   "execution_count": 65,
   "id": "minor-coupon",
   "metadata": {},
   "outputs": [
    {
     "data": {
      "text/plain": [
       "array([[3148,   86],\n",
       "       [  62, 1934]])"
      ]
     },
     "execution_count": 65,
     "metadata": {},
     "output_type": "execute_result"
    }
   ],
   "source": [
    "confusion_matrix(y3_test, y3_pred)"
   ]
  },
  {
   "cell_type": "code",
   "execution_count": 66,
   "id": "happy-vision",
   "metadata": {},
   "outputs": [
    {
     "data": {
      "text/plain": [
       "0.9717017208413002"
      ]
     },
     "execution_count": 66,
     "metadata": {},
     "output_type": "execute_result"
    }
   ],
   "source": [
    "accuracy_score(y3_test, y3_pred)"
   ]
  },
  {
   "cell_type": "code",
   "execution_count": 67,
   "id": "charged-geneva",
   "metadata": {},
   "outputs": [
    {
     "data": {
      "text/plain": [
       "0.9711727102938097"
      ]
     },
     "execution_count": 67,
     "metadata": {},
     "output_type": "execute_result"
    }
   ],
   "source": [
    "balanced_accuracy_score(y3_test, y3_pred)"
   ]
  },
  {
   "cell_type": "code",
   "execution_count": 68,
   "id": "domestic-french",
   "metadata": {},
   "outputs": [
    {
     "name": "stdout",
     "output_type": "stream",
     "text": [
      "              precision    recall  f1-score   support\n",
      "\n",
      "           0       0.98      0.97      0.98      3234\n",
      "           1       0.96      0.97      0.96      1996\n",
      "\n",
      "    accuracy                           0.97      5230\n",
      "   macro avg       0.97      0.97      0.97      5230\n",
      "weighted avg       0.97      0.97      0.97      5230\n",
      "\n"
     ]
    }
   ],
   "source": [
    "print(classification_report(y3_test, y3_pred))"
   ]
  },
  {
   "cell_type": "code",
   "execution_count": 14,
   "id": "impressive-updating",
   "metadata": {},
   "outputs": [
    {
     "data": {
      "text/html": [
       "<style>#sk-container-id-1 {color: black;background-color: white;}#sk-container-id-1 pre{padding: 0;}#sk-container-id-1 div.sk-toggleable {background-color: white;}#sk-container-id-1 label.sk-toggleable__label {cursor: pointer;display: block;width: 100%;margin-bottom: 0;padding: 0.3em;box-sizing: border-box;text-align: center;}#sk-container-id-1 label.sk-toggleable__label-arrow:before {content: \"▸\";float: left;margin-right: 0.25em;color: #696969;}#sk-container-id-1 label.sk-toggleable__label-arrow:hover:before {color: black;}#sk-container-id-1 div.sk-estimator:hover label.sk-toggleable__label-arrow:before {color: black;}#sk-container-id-1 div.sk-toggleable__content {max-height: 0;max-width: 0;overflow: hidden;text-align: left;background-color: #f0f8ff;}#sk-container-id-1 div.sk-toggleable__content pre {margin: 0.2em;color: black;border-radius: 0.25em;background-color: #f0f8ff;}#sk-container-id-1 input.sk-toggleable__control:checked~div.sk-toggleable__content {max-height: 200px;max-width: 100%;overflow: auto;}#sk-container-id-1 input.sk-toggleable__control:checked~label.sk-toggleable__label-arrow:before {content: \"▾\";}#sk-container-id-1 div.sk-estimator input.sk-toggleable__control:checked~label.sk-toggleable__label {background-color: #d4ebff;}#sk-container-id-1 div.sk-label input.sk-toggleable__control:checked~label.sk-toggleable__label {background-color: #d4ebff;}#sk-container-id-1 input.sk-hidden--visually {border: 0;clip: rect(1px 1px 1px 1px);clip: rect(1px, 1px, 1px, 1px);height: 1px;margin: -1px;overflow: hidden;padding: 0;position: absolute;width: 1px;}#sk-container-id-1 div.sk-estimator {font-family: monospace;background-color: #f0f8ff;border: 1px dotted black;border-radius: 0.25em;box-sizing: border-box;margin-bottom: 0.5em;}#sk-container-id-1 div.sk-estimator:hover {background-color: #d4ebff;}#sk-container-id-1 div.sk-parallel-item::after {content: \"\";width: 100%;border-bottom: 1px solid gray;flex-grow: 1;}#sk-container-id-1 div.sk-label:hover label.sk-toggleable__label {background-color: #d4ebff;}#sk-container-id-1 div.sk-serial::before {content: \"\";position: absolute;border-left: 1px solid gray;box-sizing: border-box;top: 0;bottom: 0;left: 50%;z-index: 0;}#sk-container-id-1 div.sk-serial {display: flex;flex-direction: column;align-items: center;background-color: white;padding-right: 0.2em;padding-left: 0.2em;position: relative;}#sk-container-id-1 div.sk-item {position: relative;z-index: 1;}#sk-container-id-1 div.sk-parallel {display: flex;align-items: stretch;justify-content: center;background-color: white;position: relative;}#sk-container-id-1 div.sk-item::before, #sk-container-id-1 div.sk-parallel-item::before {content: \"\";position: absolute;border-left: 1px solid gray;box-sizing: border-box;top: 0;bottom: 0;left: 50%;z-index: -1;}#sk-container-id-1 div.sk-parallel-item {display: flex;flex-direction: column;z-index: 1;position: relative;background-color: white;}#sk-container-id-1 div.sk-parallel-item:first-child::after {align-self: flex-end;width: 50%;}#sk-container-id-1 div.sk-parallel-item:last-child::after {align-self: flex-start;width: 50%;}#sk-container-id-1 div.sk-parallel-item:only-child::after {width: 0;}#sk-container-id-1 div.sk-dashed-wrapped {border: 1px dashed gray;margin: 0 0.4em 0.5em 0.4em;box-sizing: border-box;padding-bottom: 0.4em;background-color: white;}#sk-container-id-1 div.sk-label label {font-family: monospace;font-weight: bold;display: inline-block;line-height: 1.2em;}#sk-container-id-1 div.sk-label-container {text-align: center;}#sk-container-id-1 div.sk-container {/* jupyter's `normalize.less` sets `[hidden] { display: none; }` but bootstrap.min.css set `[hidden] { display: none !important; }` so we also need the `!important` here to be able to override the default hidden behavior on the sphinx rendered scikit-learn.org. See: https://github.com/scikit-learn/scikit-learn/issues/21755 */display: inline-block !important;position: relative;}#sk-container-id-1 div.sk-text-repr-fallback {display: none;}</style><div id=\"sk-container-id-1\" class=\"sk-top-container\"><div class=\"sk-text-repr-fallback\"><pre>RandomForestClassifier(criterion=&#x27;entropy&#x27;, max_depth=40, n_estimators=200,\n",
       "                       random_state=32)</pre><b>In a Jupyter environment, please rerun this cell to show the HTML representation or trust the notebook. <br />On GitHub, the HTML representation is unable to render, please try loading this page with nbviewer.org.</b></div><div class=\"sk-container\" hidden><div class=\"sk-item\"><div class=\"sk-estimator sk-toggleable\"><input class=\"sk-toggleable__control sk-hidden--visually\" id=\"sk-estimator-id-1\" type=\"checkbox\" checked><label for=\"sk-estimator-id-1\" class=\"sk-toggleable__label sk-toggleable__label-arrow\">RandomForestClassifier</label><div class=\"sk-toggleable__content\"><pre>RandomForestClassifier(criterion=&#x27;entropy&#x27;, max_depth=40, n_estimators=200,\n",
       "                       random_state=32)</pre></div></div></div></div></div>"
      ],
      "text/plain": [
       "RandomForestClassifier(criterion='entropy', max_depth=40, n_estimators=200,\n",
       "                       random_state=32)"
      ]
     },
     "execution_count": 14,
     "metadata": {},
     "output_type": "execute_result"
    }
   ],
   "source": [
    "# actual training of the model.\n",
    "\n",
    "cluster0_model = GradientBoostingClassifier(max_depth=9, criterion=\"squared_error\", n_estimators=200, random_state=32, loss=\"exponential\")\n",
    "cluster0_model.fit(X1, y1)\n",
    "\n",
    "cluster1_model = GradientBoostingClassifier(max_depth=6, criterion=\"friedman_mse\", n_estimators=150, random_state=32, loss=\"exponential\")\n",
    "cluster1_model.fit(X2, y2)\n",
    "\n",
    "cluster2_model = RandomForestClassifier(max_depth=40, criterion=\"entropy\", n_estimators=200, random_state=32)\n",
    "cluster2_model.fit(X3, y3)"
   ]
  },
  {
   "cell_type": "code",
   "execution_count": 15,
   "id": "nasty-muscle",
   "metadata": {},
   "outputs": [],
   "source": [
    "with open(\"objects/cluster0_model.obj\", 'wb') as f: \n",
    "    pickle.dump(cluster0_model, f)\n",
    "\n",
    "with open(\"objects/cluster1_model.obj\", 'wb') as f: \n",
    "    pickle.dump(cluster1_model, f)\n",
    "    \n",
    "with open(\"objects/cluster2_model.obj\", 'wb') as f: \n",
    "    pickle.dump(cluster2_model, f)"
   ]
  },
  {
   "cell_type": "code",
   "execution_count": null,
   "id": "nearby-lemon",
   "metadata": {},
   "outputs": [],
   "source": []
  },
  {
   "cell_type": "code",
   "execution_count": null,
   "id": "recovered-violation",
   "metadata": {},
   "outputs": [],
   "source": []
  },
  {
   "cell_type": "code",
   "execution_count": null,
   "id": "alpha-detail",
   "metadata": {},
   "outputs": [],
   "source": []
  }
 ],
 "metadata": {
  "kernelspec": {
   "display_name": "Python 3",
   "language": "python",
   "name": "python3"
  },
  "language_info": {
   "codemirror_mode": {
    "name": "ipython",
    "version": 3
   },
   "file_extension": ".py",
   "mimetype": "text/x-python",
   "name": "python",
   "nbconvert_exporter": "python",
   "pygments_lexer": "ipython3",
   "version": "3.9.2"
  }
 },
 "nbformat": 4,
 "nbformat_minor": 5
}
