{
 "cells": [
  {
   "cell_type": "code",
   "execution_count": 1,
   "id": "stupid-amendment",
   "metadata": {},
   "outputs": [],
   "source": [
    "import pandas as pd \n",
    "import pickle \n",
    "import numpy as np"
   ]
  },
  {
   "cell_type": "code",
   "execution_count": 2,
   "id": "heated-ecuador",
   "metadata": {},
   "outputs": [],
   "source": [
    "with open(\"objects/cluster0_model.obj\", 'rb') as f: \n",
    "    cluster0_model = pickle.load(f)\n",
    "with open(\"objects/cluster1_model.obj\", 'rb') as f: \n",
    "    cluster1_model = pickle.load(f)\n",
    "with open(\"objects/cluster2_model.obj\", 'rb') as f: \n",
    "    cluster2_model = pickle.load(f)\n",
    "with open(\"objects/kmeans_model.obj\", 'rb') as f: \n",
    "    kmeans_predictor = pickle.load(f)\n",
    "with open(\"objects/selected_cols.obj\", 'rb') as f: \n",
    "    selected_columns = pickle.load(f)\n",
    "with open(\"objects/standard_scaler.obj\", 'rb') as f: \n",
    "    standard_scaler = pickle.load(f)"
   ]
  },
  {
   "cell_type": "code",
   "execution_count": 3,
   "id": "protected-customs",
   "metadata": {},
   "outputs": [],
   "source": [
    "predict_data = pd.read_csv(\"/home/pi/internship-project/phising_website/phising_21062022_120000.csv\")\n",
    "predict_data = predict_data[selected_columns]\n",
    "stand_data = standard_scaler.transform(predict_data)\n",
    "stand_predict_data = pd.DataFrame(data=stand_data, columns=selected_columns)\n",
    "cluster_nos = kmeans_predictor.predict(stand_predict_data)"
   ]
  },
  {
   "cell_type": "code",
   "execution_count": 5,
   "id": "separate-tuition",
   "metadata": {},
   "outputs": [],
   "source": [
    "cluster0 = np.where(cluster_nos==0)\n",
    "cluster1 = np.where(cluster_nos==1)\n",
    "cluster2 = np.where(cluster_nos==2)"
   ]
  },
  {
   "cell_type": "code",
   "execution_count": 6,
   "id": "durable-effort",
   "metadata": {},
   "outputs": [],
   "source": [
    "cluster0_data = stand_predict_data.iloc[cluster0]\n",
    "cluster1_data = stand_predict_data.iloc[cluster1]\n",
    "cluster2_data = stand_predict_data.iloc[cluster2]"
   ]
  },
  {
   "cell_type": "code",
   "execution_count": 7,
   "id": "encouraging-color",
   "metadata": {
    "scrolled": true
   },
   "outputs": [],
   "source": [
    "cluster0_pred = cluster0_model.predict(cluster0_data)\n",
    "cluster1_pred = cluster1_model.predict(cluster1_data)\n",
    "cluster2_pred = cluster2_model.predict(cluster2_data)"
   ]
  },
  {
   "cell_type": "code",
   "execution_count": 16,
   "id": "standing-handbook",
   "metadata": {},
   "outputs": [],
   "source": [
    "cluster0_pred_df = pd.DataFrame(data=cluster0_pred, columns=['prediction'], index=cluster0_data.index)\n",
    "cluster1_pred_df = pd.DataFrame(data=cluster1_pred, columns=['prediction'], index=cluster1_data.index)\n",
    "cluster2_pred_df = pd.DataFrame(data=cluster2_pred, columns=['prediction'], index=cluster2_data.index)"
   ]
  },
  {
   "cell_type": "code",
   "execution_count": 18,
   "id": "certified-administration",
   "metadata": {},
   "outputs": [],
   "source": [
    "pred_df = pd.concat([cluster0_pred_df, cluster1_pred_df, cluster2_pred_df], axis=0)"
   ]
  },
  {
   "cell_type": "code",
   "execution_count": 27,
   "id": "static-rabbit",
   "metadata": {},
   "outputs": [],
   "source": [
    "pred_df = pred_df.sort_index()"
   ]
  },
  {
   "cell_type": "code",
   "execution_count": 28,
   "id": "tamil-commodity",
   "metadata": {},
   "outputs": [
    {
     "data": {
      "text/html": [
       "<div>\n",
       "<style scoped>\n",
       "    .dataframe tbody tr th:only-of-type {\n",
       "        vertical-align: middle;\n",
       "    }\n",
       "\n",
       "    .dataframe tbody tr th {\n",
       "        vertical-align: top;\n",
       "    }\n",
       "\n",
       "    .dataframe thead th {\n",
       "        text-align: right;\n",
       "    }\n",
       "</style>\n",
       "<table border=\"1\" class=\"dataframe\">\n",
       "  <thead>\n",
       "    <tr style=\"text-align: right;\">\n",
       "      <th></th>\n",
       "      <th>prediction</th>\n",
       "    </tr>\n",
       "  </thead>\n",
       "  <tbody>\n",
       "    <tr>\n",
       "      <th>0</th>\n",
       "      <td>0</td>\n",
       "    </tr>\n",
       "    <tr>\n",
       "      <th>1</th>\n",
       "      <td>1</td>\n",
       "    </tr>\n",
       "    <tr>\n",
       "      <th>2</th>\n",
       "      <td>0</td>\n",
       "    </tr>\n",
       "    <tr>\n",
       "      <th>3</th>\n",
       "      <td>0</td>\n",
       "    </tr>\n",
       "    <tr>\n",
       "      <th>4</th>\n",
       "      <td>0</td>\n",
       "    </tr>\n",
       "    <tr>\n",
       "      <th>...</th>\n",
       "      <td>...</td>\n",
       "    </tr>\n",
       "    <tr>\n",
       "      <th>88642</th>\n",
       "      <td>0</td>\n",
       "    </tr>\n",
       "    <tr>\n",
       "      <th>88643</th>\n",
       "      <td>0</td>\n",
       "    </tr>\n",
       "    <tr>\n",
       "      <th>88644</th>\n",
       "      <td>0</td>\n",
       "    </tr>\n",
       "    <tr>\n",
       "      <th>88645</th>\n",
       "      <td>0</td>\n",
       "    </tr>\n",
       "    <tr>\n",
       "      <th>88646</th>\n",
       "      <td>0</td>\n",
       "    </tr>\n",
       "  </tbody>\n",
       "</table>\n",
       "<p>88647 rows × 1 columns</p>\n",
       "</div>"
      ],
      "text/plain": [
       "       prediction\n",
       "0               0\n",
       "1               1\n",
       "2               0\n",
       "3               0\n",
       "4               0\n",
       "...           ...\n",
       "88642           0\n",
       "88643           0\n",
       "88644           0\n",
       "88645           0\n",
       "88646           0\n",
       "\n",
       "[88647 rows x 1 columns]"
      ]
     },
     "execution_count": 28,
     "metadata": {},
     "output_type": "execute_result"
    }
   ],
   "source": []
  },
  {
   "cell_type": "code",
   "execution_count": null,
   "id": "consolidated-captain",
   "metadata": {},
   "outputs": [],
   "source": []
  },
  {
   "cell_type": "code",
   "execution_count": null,
   "id": "maritime-example",
   "metadata": {},
   "outputs": [],
   "source": []
  },
  {
   "cell_type": "code",
   "execution_count": null,
   "id": "decreased-channels",
   "metadata": {},
   "outputs": [],
   "source": []
  },
  {
   "cell_type": "code",
   "execution_count": null,
   "id": "comic-october",
   "metadata": {},
   "outputs": [],
   "source": []
  }
 ],
 "metadata": {
  "kernelspec": {
   "display_name": "Python 3",
   "language": "python",
   "name": "python3"
  },
  "language_info": {
   "codemirror_mode": {
    "name": "ipython",
    "version": 3
   },
   "file_extension": ".py",
   "mimetype": "text/x-python",
   "name": "python",
   "nbconvert_exporter": "python",
   "pygments_lexer": "ipython3",
   "version": "3.9.2"
  }
 },
 "nbformat": 4,
 "nbformat_minor": 5
}
