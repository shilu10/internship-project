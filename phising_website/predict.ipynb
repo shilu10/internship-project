{
 "cells": [
  {
   "cell_type": "code",
   "execution_count": 1,
   "id": "stupid-amendment",
   "metadata": {},
   "outputs": [],
   "source": [
    "import pandas as pd \n",
    "import pickle \n",
    "import numpy as np"
   ]
  },
  {
   "cell_type": "code",
   "execution_count": 34,
   "id": "heated-ecuador",
   "metadata": {},
   "outputs": [],
   "source": [
    "with open(\"objects/cluster0_model.obj\", 'rb') as f: \n",
    "    cluster0_model = pickle.load(f)\n",
    "with open(\"objects/cluster1_model.obj\", 'rb') as f: \n",
    "    cluster1_model = pickle.load(f)\n",
    "with open(\"objects/cluster2_model.obj\", 'rb') as f: \n",
    "    cluster2_model = pickle.load(f)\n",
    "with open(\"objects/kmeans_model.obj\", 'rb') as f: \n",
    "    kmeans_predictor = pickle.load(f)\n",
    "with open(\"objects/selected_cols.obj\", 'rb') as f: \n",
    "    selected_columns = pickle.load(f)\n",
    "with open(\"objects/standard_scaler.obj\", 'rb') as f: \n",
    "    standard_scaler = pickle.load(f)"
   ]
  },
  {
   "cell_type": "code",
   "execution_count": 35,
   "id": "protected-customs",
   "metadata": {},
   "outputs": [],
   "source": [
    "predict_data = pd.read_csv(\"/home/pi/internship-project/phising_website/phising_21062022_120000.csv\")\n",
    "predict_data = predict_data[selected_columns]\n",
    "stand_data = standard_scaler.transform(predict_data)\n",
    "stand_predict_data = pd.DataFrame(data=stand_data, columns=selected_columns)\n",
    "cluster_nos = kmeans_predictor.predict(stand_predict_data)"
   ]
  },
  {
   "cell_type": "code",
   "execution_count": null,
   "id": "north-running",
   "metadata": {},
   "outputs": [],
   "source": []
  },
  {
   "cell_type": "code",
   "execution_count": null,
   "id": "promising-sierra",
   "metadata": {},
   "outputs": [],
   "source": [
    "cluster_dic = {}\n",
    "for cluster in clusters: \n",
    "    cluster_dic[\"df_\"+str(cluster)] = pd.DataFrame(main_df[main_df.cluster_labels==cluster])"
   ]
  },
  {
   "cell_type": "code",
   "execution_count": 46,
   "id": "separate-tuition",
   "metadata": {},
   "outputs": [],
   "source": [
    "cluster0 = np.where(cluster_nos==0)\n",
    "cluster1 = np.where(cluster_nos==1)\n",
    "cluster2 = np.where(cluster_nos==2)"
   ]
  },
  {
   "cell_type": "code",
   "execution_count": 47,
   "id": "durable-effort",
   "metadata": {},
   "outputs": [],
   "source": [
    "cluster0_data = stand_predict_data.iloc[cluster0]\n",
    "cluster1_data = stand_predict_data.iloc[cluster1]\n",
    "cluster2_data = stand_predict_data.iloc[cluster2]"
   ]
  },
  {
   "cell_type": "code",
   "execution_count": null,
   "id": "encouraging-color",
   "metadata": {
    "scrolled": true
   },
   "outputs": [],
   "source": []
  },
  {
   "cell_type": "code",
   "execution_count": 13,
   "id": "novel-connectivity",
   "metadata": {},
   "outputs": [],
   "source": []
  },
  {
   "cell_type": "code",
   "execution_count": null,
   "id": "vertical-trustee",
   "metadata": {},
   "outputs": [],
   "source": []
  },
  {
   "cell_type": "code",
   "execution_count": null,
   "id": "latin-acrylic",
   "metadata": {},
   "outputs": [],
   "source": []
  },
  {
   "cell_type": "code",
   "execution_count": null,
   "id": "controlled-haven",
   "metadata": {},
   "outputs": [],
   "source": []
  },
  {
   "cell_type": "code",
   "execution_count": null,
   "id": "relevant-discipline",
   "metadata": {},
   "outputs": [],
   "source": []
  },
  {
   "cell_type": "code",
   "execution_count": null,
   "id": "streaming-helmet",
   "metadata": {},
   "outputs": [],
   "source": []
  },
  {
   "cell_type": "code",
   "execution_count": null,
   "id": "subjective-malta",
   "metadata": {},
   "outputs": [],
   "source": []
  },
  {
   "cell_type": "code",
   "execution_count": null,
   "id": "advised-union",
   "metadata": {},
   "outputs": [],
   "source": []
  },
  {
   "cell_type": "code",
   "execution_count": null,
   "id": "exceptional-wheat",
   "metadata": {},
   "outputs": [],
   "source": []
  },
  {
   "cell_type": "code",
   "execution_count": null,
   "id": "divided-comparative",
   "metadata": {},
   "outputs": [],
   "source": []
  },
  {
   "cell_type": "code",
   "execution_count": null,
   "id": "integral-daisy",
   "metadata": {},
   "outputs": [],
   "source": []
  },
  {
   "cell_type": "code",
   "execution_count": null,
   "id": "considered-quest",
   "metadata": {},
   "outputs": [],
   "source": []
  },
  {
   "cell_type": "code",
   "execution_count": null,
   "id": "heard-playback",
   "metadata": {},
   "outputs": [],
   "source": []
  },
  {
   "cell_type": "code",
   "execution_count": null,
   "id": "blind-treat",
   "metadata": {},
   "outputs": [],
   "source": []
  },
  {
   "cell_type": "code",
   "execution_count": null,
   "id": "supported-wages",
   "metadata": {},
   "outputs": [],
   "source": []
  },
  {
   "cell_type": "code",
   "execution_count": null,
   "id": "oriented-terry",
   "metadata": {},
   "outputs": [],
   "source": []
  },
  {
   "cell_type": "code",
   "execution_count": null,
   "id": "applied-statement",
   "metadata": {},
   "outputs": [],
   "source": []
  },
  {
   "cell_type": "code",
   "execution_count": null,
   "id": "thick-skating",
   "metadata": {},
   "outputs": [],
   "source": []
  },
  {
   "cell_type": "code",
   "execution_count": null,
   "id": "international-chemical",
   "metadata": {},
   "outputs": [],
   "source": []
  },
  {
   "cell_type": "code",
   "execution_count": null,
   "id": "wireless-intensity",
   "metadata": {},
   "outputs": [],
   "source": []
  },
  {
   "cell_type": "code",
   "execution_count": null,
   "id": "romantic-current",
   "metadata": {},
   "outputs": [],
   "source": []
  },
  {
   "cell_type": "code",
   "execution_count": null,
   "id": "adult-trinity",
   "metadata": {},
   "outputs": [],
   "source": []
  },
  {
   "cell_type": "code",
   "execution_count": null,
   "id": "dressed-private",
   "metadata": {},
   "outputs": [],
   "source": []
  },
  {
   "cell_type": "code",
   "execution_count": null,
   "id": "velvet-lucas",
   "metadata": {},
   "outputs": [],
   "source": []
  },
  {
   "cell_type": "code",
   "execution_count": null,
   "id": "three-checklist",
   "metadata": {},
   "outputs": [],
   "source": []
  },
  {
   "cell_type": "code",
   "execution_count": null,
   "id": "large-facing",
   "metadata": {},
   "outputs": [],
   "source": []
  },
  {
   "cell_type": "code",
   "execution_count": null,
   "id": "handy-algorithm",
   "metadata": {},
   "outputs": [],
   "source": []
  },
  {
   "cell_type": "code",
   "execution_count": null,
   "id": "motivated-atlantic",
   "metadata": {},
   "outputs": [],
   "source": []
  },
  {
   "cell_type": "code",
   "execution_count": null,
   "id": "ahead-foundation",
   "metadata": {},
   "outputs": [],
   "source": []
  },
  {
   "cell_type": "code",
   "execution_count": null,
   "id": "attached-recommendation",
   "metadata": {},
   "outputs": [],
   "source": []
  },
  {
   "cell_type": "code",
   "execution_count": null,
   "id": "standing-handbook",
   "metadata": {},
   "outputs": [],
   "source": []
  },
  {
   "cell_type": "code",
   "execution_count": null,
   "id": "certified-administration",
   "metadata": {},
   "outputs": [],
   "source": []
  }
 ],
 "metadata": {
  "kernelspec": {
   "display_name": "Python 3",
   "language": "python",
   "name": "python3"
  },
  "language_info": {
   "codemirror_mode": {
    "name": "ipython",
    "version": 3
   },
   "file_extension": ".py",
   "mimetype": "text/x-python",
   "name": "python",
   "nbconvert_exporter": "python",
   "pygments_lexer": "ipython3",
   "version": "3.9.2"
  }
 },
 "nbformat": 4,
 "nbformat_minor": 5
}
