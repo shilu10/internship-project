{
 "cells": [
  {
   "cell_type": "code",
   "execution_count": 1,
   "id": "314d84ca",
   "metadata": {},
   "outputs": [],
   "source": [
    "import pandas as pd \n",
    "\n",
    "\n",
    "df = pd.read_csv(\"/home/adminuser/Downloads/2c7fbdd7-2021-44e4-af07-8d5aa0e567ed.csv\")"
   ]
  },
  {
   "cell_type": "code",
   "execution_count": 3,
   "id": "a20b8eb9",
   "metadata": {},
   "outputs": [
    {
     "data": {
      "text/plain": [
       "eventversion           float64\n",
       "useridentity            object\n",
       "eventtime               object\n",
       "eventsource             object\n",
       "eventname               object\n",
       "awsregion               object\n",
       "sourceipaddress         object\n",
       "useragent               object\n",
       "errorcode               object\n",
       "errormessage            object\n",
       "requestparameters       object\n",
       "responseelements        object\n",
       "additionaleventdata     object\n",
       "requestid               object\n",
       "eventid                 object\n",
       "resources               object\n",
       "eventtype               object\n",
       "apiversion             float64\n",
       "readonly                  bool\n",
       "recipientaccountid       int64\n",
       "serviceeventdetails     object\n",
       "sharedeventid           object\n",
       "vpcendpointid           object\n",
       "dtype: object"
      ]
     },
     "execution_count": 3,
     "metadata": {},
     "output_type": "execute_result"
    }
   ],
   "source": [
    "df.dtypes"
   ]
  },
  {
   "cell_type": "code",
   "execution_count": 16,
   "id": "2d366425",
   "metadata": {},
   "outputs": [],
   "source": [
    "nw = df['awsregion'].astype(\"str\")[0]"
   ]
  },
  {
   "cell_type": "code",
   "execution_count": 17,
   "id": "390f56e8",
   "metadata": {},
   "outputs": [
    {
     "data": {
      "text/plain": [
       "'us-east-1'"
      ]
     },
     "execution_count": 17,
     "metadata": {},
     "output_type": "execute_result"
    }
   ],
   "source": [
    "nw"
   ]
  },
  {
   "cell_type": "code",
   "execution_count": 18,
   "id": "be0cb699",
   "metadata": {},
   "outputs": [],
   "source": [
    "n1 = \"us-east-1\""
   ]
  },
  {
   "cell_type": "code",
   "execution_count": 19,
   "id": "1a4f5caa",
   "metadata": {},
   "outputs": [
    {
     "data": {
      "text/plain": [
       "True"
      ]
     },
     "execution_count": 19,
     "metadata": {},
     "output_type": "execute_result"
    }
   ],
   "source": [
    "nw == n1"
   ]
  },
  {
   "cell_type": "code",
   "execution_count": 20,
   "id": "71476b4f",
   "metadata": {},
   "outputs": [],
   "source": [
    "import flask_sqlalchemy "
   ]
  },
  {
   "cell_type": "code",
   "execution_count": 30,
   "id": "0f870db7",
   "metadata": {},
   "outputs": [
    {
     "ename": "AttributeError",
     "evalue": "'str' object has no attribute 'config'",
     "output_type": "error",
     "traceback": [
      "\u001b[0;31m---------------------------------------------------------------------------\u001b[0m",
      "\u001b[0;31mAttributeError\u001b[0m                            Traceback (most recent call last)",
      "\u001b[0;32m/tmp/ipykernel_3071/3057745511.py\u001b[0m in \u001b[0;36m<module>\u001b[0;34m\u001b[0m\n\u001b[0;32m----> 1\u001b[0;31m \u001b[0mdb\u001b[0m \u001b[0;34m=\u001b[0m \u001b[0mflask_sqlalchemy\u001b[0m\u001b[0;34m.\u001b[0m\u001b[0mSQLAlchemy\u001b[0m\u001b[0;34m(\u001b[0m\u001b[0mapp\u001b[0m\u001b[0;34m=\u001b[0m\u001b[0;34m\"sqal.db\"\u001b[0m\u001b[0;34m)\u001b[0m\u001b[0;34m\u001b[0m\u001b[0;34m\u001b[0m\u001b[0m\n\u001b[0m",
      "\u001b[0;32m/usr/lib/python3/dist-packages/flask_sqlalchemy/__init__.py\u001b[0m in \u001b[0;36m__init__\u001b[0;34m(self, app, use_native_unicode, session_options, metadata, query_class, model_class, engine_options)\u001b[0m\n\u001b[1;32m    759\u001b[0m \u001b[0;34m\u001b[0m\u001b[0m\n\u001b[1;32m    760\u001b[0m         \u001b[0;32mif\u001b[0m \u001b[0mapp\u001b[0m \u001b[0;32mis\u001b[0m \u001b[0;32mnot\u001b[0m \u001b[0;32mNone\u001b[0m\u001b[0;34m:\u001b[0m\u001b[0;34m\u001b[0m\u001b[0;34m\u001b[0m\u001b[0m\n\u001b[0;32m--> 761\u001b[0;31m             \u001b[0mself\u001b[0m\u001b[0;34m.\u001b[0m\u001b[0minit_app\u001b[0m\u001b[0;34m(\u001b[0m\u001b[0mapp\u001b[0m\u001b[0;34m)\u001b[0m\u001b[0;34m\u001b[0m\u001b[0;34m\u001b[0m\u001b[0m\n\u001b[0m\u001b[1;32m    762\u001b[0m \u001b[0;34m\u001b[0m\u001b[0m\n\u001b[1;32m    763\u001b[0m     \u001b[0;34m@\u001b[0m\u001b[0mproperty\u001b[0m\u001b[0;34m\u001b[0m\u001b[0;34m\u001b[0m\u001b[0m\n",
      "\u001b[0;32m/usr/lib/python3/dist-packages/flask_sqlalchemy/__init__.py\u001b[0m in \u001b[0;36minit_app\u001b[0;34m(self, app)\u001b[0m\n\u001b[1;32m    846\u001b[0m         \"\"\"\n\u001b[1;32m    847\u001b[0m         if (\n\u001b[0;32m--> 848\u001b[0;31m             \u001b[0;34m'SQLALCHEMY_DATABASE_URI'\u001b[0m \u001b[0;32mnot\u001b[0m \u001b[0;32min\u001b[0m \u001b[0mapp\u001b[0m\u001b[0;34m.\u001b[0m\u001b[0mconfig\u001b[0m \u001b[0;32mand\u001b[0m\u001b[0;34m\u001b[0m\u001b[0;34m\u001b[0m\u001b[0m\n\u001b[0m\u001b[1;32m    849\u001b[0m             \u001b[0;34m'SQLALCHEMY_BINDS'\u001b[0m \u001b[0;32mnot\u001b[0m \u001b[0;32min\u001b[0m \u001b[0mapp\u001b[0m\u001b[0;34m.\u001b[0m\u001b[0mconfig\u001b[0m\u001b[0;34m\u001b[0m\u001b[0;34m\u001b[0m\u001b[0m\n\u001b[1;32m    850\u001b[0m         ):\n",
      "\u001b[0;31mAttributeError\u001b[0m: 'str' object has no attribute 'config'"
     ]
    }
   ],
   "source": [
    "db = flask_sqlalchemy.SQLAlchemy(app = \"sqal.db\")"
   ]
  },
  {
   "cell_type": "code",
   "execution_count": 27,
   "id": "2a020f51",
   "metadata": {},
   "outputs": [
    {
     "ename": "AttributeError",
     "evalue": "'SQLAlchemy' object has no attribute 'py'",
     "output_type": "error",
     "traceback": [
      "\u001b[0;31m---------------------------------------------------------------------------\u001b[0m",
      "\u001b[0;31mAttributeError\u001b[0m                            Traceback (most recent call last)",
      "\u001b[0;32m/tmp/ipykernel_3071/771951306.py\u001b[0m in \u001b[0;36m<module>\u001b[0;34m\u001b[0m\n\u001b[0;32m----> 1\u001b[0;31m \u001b[0mdb\u001b[0m\u001b[0;34m.\u001b[0m\u001b[0mpy\u001b[0m\u001b[0;34m\u001b[0m\u001b[0;34m\u001b[0m\u001b[0m\n\u001b[0m",
      "\u001b[0;31mAttributeError\u001b[0m: 'SQLAlchemy' object has no attribute 'py'"
     ]
    }
   ],
   "source": [
    "db.py"
   ]
  },
  {
   "cell_type": "code",
   "execution_count": null,
   "id": "4e18759c",
   "metadata": {},
   "outputs": [],
   "source": []
  }
 ],
 "metadata": {
  "kernelspec": {
   "display_name": "Python 3 (ipykernel)",
   "language": "python",
   "name": "python3"
  },
  "language_info": {
   "codemirror_mode": {
    "name": "ipython",
    "version": 3
   },
   "file_extension": ".py",
   "mimetype": "text/x-python",
   "name": "python",
   "nbconvert_exporter": "python",
   "pygments_lexer": "ipython3",
   "version": "3.9.2"
  }
 },
 "nbformat": 4,
 "nbformat_minor": 5
}
